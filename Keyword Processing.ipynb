{
 "cells": [
  {
   "cell_type": "markdown",
   "metadata": {},
   "source": [
    "# Processing Keywords or Tags"
   ]
  },
  {
   "cell_type": "code",
   "execution_count": 28,
   "metadata": {},
   "outputs": [],
   "source": [
    "from typing import Iterable\n",
    "from re import compile as re"
   ]
  },
  {
   "cell_type": "markdown",
   "metadata": {},
   "source": [
    "## Implementation"
   ]
  },
  {
   "cell_type": "code",
   "execution_count": 29,
   "metadata": {},
   "outputs": [],
   "source": [
    "class KeywordProcessor(object):\n",
    "    \"\"\"Process user-supplied keywords, tags, or search terms.\n",
    "    \n",
    "    This tries to be as flexible as possible while being efficient.\n",
    "    The vast majority of the work is done in the regular expression.\"\"\"\n",
    "    \n",
    "    def __init__(self, separators=' \\t', quotes=['\"', \"'\"], groups=[], group=False, normalize=None, sort=False, result=list):\n",
    "        \"\"\"Configure the processor.\n",
    "        \n",
    "        separators: A list of acceptable separator characters.  The first will be used for joins.\n",
    "        quotes: Pass a list or tuple of allowable quotes. E.g. [\"\\\"\", \"'\"] or None to disable.\n",
    "        groups: Pass a string, list, or tuple of allowable prefixes.  E.g. '+-' or None to disable.\n",
    "        group: Pass in the type you want to group by, e.g. list, tuple, or dict.\n",
    "        normalize: Pass a function which will normalize the results.  E.g. lambda s: s.lower().strip(' \\\"')\n",
    "        sort: Sort the resulting list (or lists) alphabeticlly.\n",
    "        result: The return type.  One of set, tuple, list.\n",
    "        \n",
    "        If groups are defined, and group is not, the result will be a list/tuple/set of tuples, e.g. [('+', \"foo\"), ...]\n",
    "        \"\"\"\n",
    "        \n",
    "        separators = list(separators)\n",
    "        \n",
    "        self.pattern = ''.join((\n",
    "                ('[\\s%s]*' % (''.join(separators), )), # Trap possible leading space or separators.\n",
    "                '(',\n",
    "                    ('[%s]%s' % (''.join([i for i in list(groups) if i is not None]), '?' if None in groups else '')) if groups else '', # Pass groups=('+','-') to handle optional leading + or -.\n",
    "                    ''.join([(r'%s[^%s]+%s|' % (i, i, i)) for i in quotes]) if quotes else '', # Match any amount of text (that isn't a quote) inside quotes.\n",
    "                    ('[^%s]+' % (''.join(separators), )), # Match any amount of text that isn't whitespace.\n",
    "                ')',\n",
    "                ('[%s]*' % (''.join(separators), )), # Match possible separator character.\n",
    "            ))\n",
    "        self.regex = re(self.pattern)\n",
    "        \n",
    "        self.groups = list(groups)\n",
    "        self.group = dict if group is True else group\n",
    "        self.normalize = normalize\n",
    "        self.sort = sort\n",
    "        self.result = result\n",
    "    \n",
    "    def split(self, value:str):\n",
    "        if not isinstance(value, str): raise TypeError(\"Invalid type for argument 'value'.\")\n",
    "        \n",
    "        matches = self.regex.findall(value)\n",
    "        \n",
    "        if callable(self.normalize): matches = [self.normalize(i) for i in matches]\n",
    "        if self.sort: matches.sort()\n",
    "        if not self.groups: return self.result(matches)\n",
    "        \n",
    "        groups = dict([(i, list()) for i in self.groups])\n",
    "        if None not in groups.keys(): groups[None] = list() # To prevent errors.\n",
    "        \n",
    "        for i in matches:\n",
    "            if i[0] in self.groups:\n",
    "                groups[i[0]].append(i[1:])\n",
    "            else:\n",
    "                groups[None].append(i)\n",
    "        \n",
    "        if self.group is dict: return groups\n",
    "        \n",
    "        if self.group is False or self.group is None:\n",
    "            results = []\n",
    "            \n",
    "            for group in self.groups:\n",
    "                results.extend([(group, match) for match in groups[group]])\n",
    "            \n",
    "            return self.result(results)\n",
    "        \n",
    "        return self.group([[match for match in groups[group]] for group in self.groups])"
   ]
  },
  {
   "cell_type": "markdown",
   "metadata": {},
   "source": [
    "## Sample Instances"
   ]
  },
  {
   "cell_type": "code",
   "execution_count": 30,
   "metadata": {},
   "outputs": [],
   "source": [
    "tag_parser = KeywordProcessor(\n",
    "        ' \\t,',\n",
    "        normalize=lambda s: s.lower().strip('\"'),\n",
    "        sort=True,\n",
    "        result=tuple\n",
    "    )\n",
    "\n",
    "search_parser = KeywordProcessor(\n",
    "        groups=[None, '+', '-'],\n",
    "        group=tuple\n",
    "    )"
   ]
  },
  {
   "cell_type": "markdown",
   "metadata": {},
   "source": [
    "### Examples of Use"
   ]
  },
  {
   "cell_type": "code",
   "execution_count": 31,
   "metadata": {},
   "outputs": [
    {
     "name": "stdout",
     "output_type": "stream",
     "text": [
      "Tag Parser Regex: [\\s \t,]*(\"[^\"]+\"|'[^']+'|[^ \t,]+)[ \t,]*\n",
      "Search Parser Regex: [\\s \t]*([+-]?\"[^\"]+\"|'[^']+'|[^ \t]+)[ \t]*\n"
     ]
    }
   ],
   "source": [
    "print(\"Tag Parser Regex:\", tag_parser.pattern)\n",
    "print(\"Search Parser Regex:\", search_parser.pattern)"
   ]
  },
  {
   "cell_type": "code",
   "execution_count": 32,
   "metadata": {},
   "outputs": [
    {
     "name": "stdout",
     "output_type": "stream",
     "text": [
      "Parse Tags: \"high altitude\" \"melting panda\" panda bends\n",
      "Parse Result: ('bends', 'high altitude', 'melting panda', 'panda')\n"
     ]
    }
   ],
   "source": [
    "_ = '\"high altitude\" \"melting panda\" panda bends'\n",
    "print(\"Parse Tags:\", _)\n",
    "print(\"Parse Result:\", tag_parser.split(_))"
   ]
  },
  {
   "cell_type": "code",
   "execution_count": 33,
   "metadata": {},
   "outputs": [],
   "source": [
    "def test_search(s):\n",
    "    print(\"Parse Search:\", s)\n",
    "    print(\"Parse Result:\", search_parser.split(s))\n",
    "    print()"
   ]
  },
  {
   "cell_type": "code",
   "execution_count": 34,
   "metadata": {},
   "outputs": [
    {
     "name": "stdout",
     "output_type": "stream",
     "text": [
      "Parse Search: animals +cat -dog +\"medical treatment\"\n",
      "Parse Result: (['animals'], ['cat', '\"medical treatment\"'], ['dog'])\n",
      "\n",
      "Parse Search: animal medicine +cat +\"kitty death\"\n",
      "Parse Result: (['animal', 'medicine'], ['cat', '\"kitty death\"'], [])\n",
      "\n"
     ]
    }
   ],
   "source": [
    "test_search('animals +cat -dog +\"medical treatment\"')\n",
    "test_search('animal medicine +cat +\"kitty death\"')"
   ]
  },
  {
   "cell_type": "code",
   "execution_count": 35,
   "metadata": {},
   "outputs": [
    {
     "name": "stdout",
     "output_type": "stream",
     "text": [
      "Parse Search:  foo  -bar +\"baz\"diz       \n",
      "Parse Result: {None: ['foo', 'diz'], '+': ['\"baz\"'], '-': ['bar']}\n",
      "\n"
     ]
    }
   ],
   "source": [
    "search_parser.group = dict\n",
    "test_search(' foo  -bar +\"baz\"diz       ')"
   ]
  },
  {
   "cell_type": "code",
   "execution_count": 36,
   "metadata": {},
   "outputs": [
    {
     "name": "stdout",
     "output_type": "stream",
     "text": [
      "Parse Search: cat dog -leather\n",
      "Parse Result: [(None, 'cat'), (None, 'dog'), ('-', 'leather')]\n",
      "\n"
     ]
    }
   ],
   "source": [
    "search_parser.group = False \n",
    "test_search('cat dog -leather')"
   ]
  },
  {
   "cell_type": "code",
   "execution_count": 37,
   "metadata": {},
   "outputs": [
    {
     "name": "stdout",
     "output_type": "stream",
     "text": [
      "('2009', '©')\n"
     ]
    }
   ],
   "source": [
    "print(tag_parser.split('© 2009'))"
   ]
  }
 ],
 "metadata": {
  "kernelspec": {
   "display_name": "Python 3",
   "language": "python",
   "name": "python3"
  },
  "language_info": {
   "codemirror_mode": {
    "name": "ipython",
    "version": 3
   },
   "file_extension": ".py",
   "mimetype": "text/x-python",
   "name": "python",
   "nbconvert_exporter": "python",
   "pygments_lexer": "ipython3",
   "version": "3.9.1"
  }
 },
 "nbformat": 4,
 "nbformat_minor": 4
}
