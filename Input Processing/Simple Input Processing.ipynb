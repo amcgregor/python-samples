{
 "cells": [
  {
   "cell_type": "markdown",
   "metadata": {},
   "source": [
    "# Simple Input Processing\n",
    "\n",
    "This is a small collection of \"proper implementations\" of basic incoming data transformations for basic types. As data is often coming in over the web in a textual form, these primarily target string transformations.\n",
    "\n",
    "## Boolean Values\n",
    "\n",
    "There are many \"natural\" ways to express if a value is on or true, false or off, and so forth. Over HTTP, type information is lost and all values are transferred as strings, your checkboxes will need an acceptable value to use. Additionally, there's an interesting trick for `<input type=checkbox>` inputs:\n",
    "\n",
    "```\n",
    "<input type=hidden name=example value=false>\n",
    "<input type=checkbox name=example value=true>\n",
    "```\n",
    "\n",
    "In this way you can ensure if the checkbox is not checked, a value of `false` will be sent, and if it is, an array of `['false', 'true']` will be sent. The first will resolve to `False`, the second to `True`."
   ]
  },
  {
   "cell_type": "code",
   "execution_count": 25,
   "metadata": {},
   "outputs": [],
   "source": [
    "def boolean(input) -> bool:\n",
    "\t\"\"\"Convert the given input to a boolean value.\n",
    "\t\n",
    "\tIntelligently handles boolean and non-string values, returning as-is or passing to the bool builtin respectively.\n",
    "\t\n",
    "\tThis process is case-insensitive.\n",
    "\t\"\"\"\n",
    "\t\n",
    "\ttry:  # Eliminate unnecessary distractions and choice.\n",
    "\t\tinput = input.strip().lower()\n",
    "\texcept AttributeError:  # \"Duck typing\" — we aren't explicitly checking for \"stringiness\".\n",
    "\t\treturn bool(input)  # Fall back to standard typecasting; handles bools, ints, &c.\n",
    "\t\n",
    "\tif input in ('yes', 'y', 'on', 'true', 't', '1'):\n",
    "\t\treturn True\n",
    "\t\n",
    "\tif input in ('no', 'n', 'off', 'false', 'f', '0'):\n",
    "\t\treturn False\n",
    "\t\n",
    "\traise ValueError(\"Unable to convert {0!r} to a boolean value.\".format(input))"
   ]
  },
  {
   "cell_type": "code",
   "execution_count": 26,
   "metadata": {},
   "outputs": [
    {
     "data": {
      "text/plain": [
       "True"
      ]
     },
     "execution_count": 26,
     "metadata": {},
     "output_type": "execute_result"
    }
   ],
   "source": [
    "boolean(\"yes\")"
   ]
  },
  {
   "cell_type": "code",
   "execution_count": 27,
   "metadata": {},
   "outputs": [
    {
     "data": {
      "text/plain": [
       "False"
      ]
     },
     "execution_count": 27,
     "metadata": {},
     "output_type": "execute_result"
    }
   ],
   "source": [
    "boolean(\"f\")"
   ]
  },
  {
   "cell_type": "code",
   "execution_count": 28,
   "metadata": {},
   "outputs": [
    {
     "data": {
      "text/plain": [
       "True"
      ]
     },
     "execution_count": 28,
     "metadata": {},
     "output_type": "execute_result"
    }
   ],
   "source": [
    "boolean(True)"
   ]
  },
  {
   "cell_type": "code",
   "execution_count": 29,
   "metadata": {},
   "outputs": [
    {
     "data": {
      "text/plain": [
       "False"
      ]
     },
     "execution_count": 29,
     "metadata": {},
     "output_type": "execute_result"
    }
   ],
   "source": [
    "boolean(False)"
   ]
  },
  {
   "cell_type": "code",
   "execution_count": 30,
   "metadata": {},
   "outputs": [
    {
     "data": {
      "text/plain": [
       "True"
      ]
     },
     "execution_count": 30,
     "metadata": {},
     "output_type": "execute_result"
    }
   ],
   "source": [
    "boolean(1)  # And so forth..."
   ]
  },
  {
   "cell_type": "code",
   "execution_count": 31,
   "metadata": {},
   "outputs": [
    {
     "data": {
      "text/plain": [
       "True"
      ]
     },
     "execution_count": 31,
     "metadata": {},
     "output_type": "execute_result"
    }
   ],
   "source": [
    "boolean(['false', 'true'])"
   ]
  },
  {
   "cell_type": "code",
   "execution_count": 32,
   "metadata": {},
   "outputs": [],
   "source": [
    "import expectexception"
   ]
  },
  {
   "cell_type": "code",
   "execution_count": 33,
   "metadata": {
    "scrolled": true
   },
   "outputs": [
    {
     "name": "stdout",
     "output_type": "stream",
     "text": [
      "\u001b[0;31m---------------------------------------------------------------------------\u001b[0m\n",
      "\u001b[0;31mValueError\u001b[0m                                Traceback (most recent call last)\n",
      "\u001b[0;32m<ipython-input-33-dcb8e8559682>\u001b[0m in \u001b[0;36m<module>\u001b[0;34m\u001b[0m\n",
      "\u001b[0;32m----> 1\u001b[0;31m \u001b[0mboolean\u001b[0m\u001b[0;34m(\u001b[0m\u001b[0;34m\"hi\"\u001b[0m\u001b[0;34m)\u001b[0m\u001b[0;34m\u001b[0m\u001b[0;34m\u001b[0m\u001b[0m\n",
      "\u001b[0m\n",
      "\u001b[0;32m<ipython-input-25-f304bacb583a>\u001b[0m in \u001b[0;36mboolean\u001b[0;34m(input)\u001b[0m\n",
      "\u001b[1;32m     18\u001b[0m                 \u001b[0;32mreturn\u001b[0m \u001b[0;32mFalse\u001b[0m\u001b[0;34m\u001b[0m\u001b[0;34m\u001b[0m\u001b[0m\n",
      "\u001b[1;32m     19\u001b[0m \u001b[0;34m\u001b[0m\u001b[0m\n",
      "\u001b[0;32m---> 20\u001b[0;31m         \u001b[0;32mraise\u001b[0m \u001b[0mValueError\u001b[0m\u001b[0;34m(\u001b[0m\u001b[0;34m\"Unable to convert {0!r} to a boolean value.\"\u001b[0m\u001b[0;34m.\u001b[0m\u001b[0mformat\u001b[0m\u001b[0;34m(\u001b[0m\u001b[0minput\u001b[0m\u001b[0;34m)\u001b[0m\u001b[0;34m)\u001b[0m\u001b[0;34m\u001b[0m\u001b[0;34m\u001b[0m\u001b[0m\n",
      "\u001b[0m\n",
      "\u001b[0;31mValueError\u001b[0m: Unable to convert 'hi' to a boolean value.\n"
     ]
    }
   ],
   "source": [
    "%%expect_exception ValueError\n",
    "\n",
    "boolean(\"hi\")"
   ]
  }
 ],
 "metadata": {
  "kernelspec": {
   "display_name": "Python 3",
   "language": "python",
   "name": "python3"
  },
  "language_info": {
   "codemirror_mode": {
    "name": "ipython",
    "version": 3
   },
   "file_extension": ".py",
   "mimetype": "text/x-python",
   "name": "python",
   "nbconvert_exporter": "python",
   "pygments_lexer": "ipython3",
   "version": "3.9.1"
  }
 },
 "nbformat": 4,
 "nbformat_minor": 4
}
