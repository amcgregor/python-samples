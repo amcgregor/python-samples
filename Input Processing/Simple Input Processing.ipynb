{
 "cells": [
  {
   "cell_type": "code",
   "execution_count": 48,
   "metadata": {},
   "outputs": [],
   "source": [
    "import expectexception\n",
    "\n",
    "from typing import List, Union, Optional"
   ]
  },
  {
   "cell_type": "markdown",
   "metadata": {},
   "source": [
    "# Simple Input Processing\n",
    "\n",
    "This is a small collection of \"proper implementations\" of basic incoming data transformations for basic types. As data is often coming in over the web in a textual form, these primarily target string transformations.\n",
    "\n",
    "## Boolean Values\n",
    "\n",
    "There are many \"natural\" ways to express if a value is on or true, false or off, and so forth. Over HTTP, type information is lost and all values are transferred as strings, your checkboxes will need an acceptable value to use. Additionally, there's an interesting trick for `<input type=checkbox>` inputs:\n",
    "\n",
    "```\n",
    "<input type=hidden name=example value=false>\n",
    "<input type=checkbox name=example value=true>\n",
    "```\n",
    "\n",
    "In this way you can ensure if the checkbox is not checked, a value of `false` will be sent, and if it is, an array of `['false', 'true']` will be sent. The first will resolve to `False`, the second to `True`."
   ]
  },
  {
   "cell_type": "code",
   "execution_count": 36,
   "metadata": {},
   "outputs": [],
   "source": [
    "def boolean(input) -> bool:\n",
    "\t\"\"\"Convert the given input to a boolean value.\n",
    "\t\n",
    "\tIntelligently handles boolean and non-string values, returning as-is or passing to the bool builtin respectively.\n",
    "\t\n",
    "\tThis process is case-insensitive.\n",
    "\t\"\"\"\n",
    "\t\n",
    "\ttry:  # Eliminate unnecessary distractions and choice.\n",
    "\t\tinput = input.strip().lower()\n",
    "\texcept AttributeError:  # \"Duck typing\" — we aren't explicitly checking for \"stringiness\".\n",
    "\t\treturn bool(input)  # Fall back to standard typecasting; handles bools, ints, &c.\n",
    "\t\n",
    "\tif input in ('yes', 'y', 'on', 'true', 't', '1'):\n",
    "\t\treturn True\n",
    "\t\n",
    "\tif input in ('no', 'n', 'off', 'false', 'f', '0'):\n",
    "\t\treturn False\n",
    "\t\n",
    "\traise ValueError(\"Unable to convert {0!r} to a boolean value.\".format(input))"
   ]
  },
  {
   "cell_type": "code",
   "execution_count": 37,
   "metadata": {},
   "outputs": [
    {
     "data": {
      "text/plain": [
       "True"
      ]
     },
     "execution_count": 37,
     "metadata": {},
     "output_type": "execute_result"
    }
   ],
   "source": [
    "boolean(\"yes\")"
   ]
  },
  {
   "cell_type": "code",
   "execution_count": 38,
   "metadata": {},
   "outputs": [
    {
     "data": {
      "text/plain": [
       "False"
      ]
     },
     "execution_count": 38,
     "metadata": {},
     "output_type": "execute_result"
    }
   ],
   "source": [
    "boolean(\"f\")"
   ]
  },
  {
   "cell_type": "code",
   "execution_count": 39,
   "metadata": {},
   "outputs": [
    {
     "data": {
      "text/plain": [
       "True"
      ]
     },
     "execution_count": 39,
     "metadata": {},
     "output_type": "execute_result"
    }
   ],
   "source": [
    "boolean(True)"
   ]
  },
  {
   "cell_type": "code",
   "execution_count": 40,
   "metadata": {},
   "outputs": [
    {
     "data": {
      "text/plain": [
       "False"
      ]
     },
     "execution_count": 40,
     "metadata": {},
     "output_type": "execute_result"
    }
   ],
   "source": [
    "boolean(False)"
   ]
  },
  {
   "cell_type": "code",
   "execution_count": 41,
   "metadata": {},
   "outputs": [
    {
     "data": {
      "text/plain": [
       "True"
      ]
     },
     "execution_count": 41,
     "metadata": {},
     "output_type": "execute_result"
    }
   ],
   "source": [
    "boolean(1)  # And so forth..."
   ]
  },
  {
   "cell_type": "code",
   "execution_count": 42,
   "metadata": {},
   "outputs": [
    {
     "data": {
      "text/plain": [
       "True"
      ]
     },
     "execution_count": 42,
     "metadata": {},
     "output_type": "execute_result"
    }
   ],
   "source": [
    "boolean(['false', 'true'])"
   ]
  },
  {
   "cell_type": "code",
   "execution_count": 43,
   "metadata": {
    "scrolled": true
   },
   "outputs": [
    {
     "name": "stdout",
     "output_type": "stream",
     "text": [
      "\u001b[0;31m---------------------------------------------------------------------------\u001b[0m\n",
      "\u001b[0;31mValueError\u001b[0m                                Traceback (most recent call last)\n",
      "\u001b[0;32m<ipython-input-43-dcb8e8559682>\u001b[0m in \u001b[0;36m<module>\u001b[0;34m\u001b[0m\n",
      "\u001b[0;32m----> 1\u001b[0;31m \u001b[0mboolean\u001b[0m\u001b[0;34m(\u001b[0m\u001b[0;34m\"hi\"\u001b[0m\u001b[0;34m)\u001b[0m\u001b[0;34m\u001b[0m\u001b[0;34m\u001b[0m\u001b[0m\n",
      "\u001b[0m\n",
      "\u001b[0;32m<ipython-input-36-f304bacb583a>\u001b[0m in \u001b[0;36mboolean\u001b[0;34m(input)\u001b[0m\n",
      "\u001b[1;32m     18\u001b[0m                 \u001b[0;32mreturn\u001b[0m \u001b[0;32mFalse\u001b[0m\u001b[0;34m\u001b[0m\u001b[0;34m\u001b[0m\u001b[0m\n",
      "\u001b[1;32m     19\u001b[0m \u001b[0;34m\u001b[0m\u001b[0m\n",
      "\u001b[0;32m---> 20\u001b[0;31m         \u001b[0;32mraise\u001b[0m \u001b[0mValueError\u001b[0m\u001b[0;34m(\u001b[0m\u001b[0;34m\"Unable to convert {0!r} to a boolean value.\"\u001b[0m\u001b[0;34m.\u001b[0m\u001b[0mformat\u001b[0m\u001b[0;34m(\u001b[0m\u001b[0minput\u001b[0m\u001b[0;34m)\u001b[0m\u001b[0;34m)\u001b[0m\u001b[0;34m\u001b[0m\u001b[0;34m\u001b[0m\u001b[0m\n",
      "\u001b[0m\n",
      "\u001b[0;31mValueError\u001b[0m: Unable to convert 'hi' to a boolean value.\n"
     ]
    }
   ],
   "source": [
    "%%expect_exception ValueError\n",
    "\n",
    "boolean(\"hi\")"
   ]
  },
  {
   "cell_type": "markdown",
   "metadata": {},
   "source": [
    "## Delimited Lists\n",
    "\n",
    "When an actual `list` of values can not be normally produced, a limited form of encoding or serialization using a delimiter can be used. This is typically a comma, sometimes a space, but may be any symbol found suitable.\n",
    "\n",
    "Ultimately, you'll need the individual values composing the serialized one back as a list of separate values."
   ]
  },
  {
   "cell_type": "code",
   "execution_count": 51,
   "metadata": {},
   "outputs": [],
   "source": [
    "def array(input:Union[None,List[str],str], *, separator:Optional[str]=',', strip:bool=True, empty:bool=False) -> List[str]:\n",
    "\t\"\"\"Convert the given input to a list.\n",
    "\t\n",
    "\tIntelligently handles list and non-string values, returning as-is and passing to the list builtin respectively.\n",
    "\t\n",
    "\tThe default optional keyword arguments allow for lists in the form:\n",
    "\t\n",
    "\t\t\"foo,bar, baz   , diz\" -> ['foo', 'bar', 'baz', 'diz']\n",
    "\t\n",
    "\tThe separator may be None to split on any whitespace.\n",
    "\t\"\"\"\n",
    "\t\n",
    "\tif input is None:\n",
    "\t\treturn []\n",
    "\t\n",
    "\tif isinstance(input, list):\n",
    "\t\tif not empty:\n",
    "\t\t\treturn [i for i in input if i]\n",
    "\t\t\n",
    "\t\treturn input\n",
    "\t\n",
    "\tif not isinstance(input, str):\n",
    "\t\tif not empty:\n",
    "\t\t\treturn [i for i in list(input) if i]\n",
    "\t\t\n",
    "\t\treturn list(input)\n",
    "\t\n",
    "\tif not strip:\n",
    "\t\tif not empty:\n",
    "\t\t\treturn [i for i in input.split(separator) if i]\n",
    "\t\t\n",
    "\t\treturn input.split(separator)\n",
    "\t\n",
    "\tif not empty:\n",
    "\t\treturn [i for i in [i.strip() for i in input.split(separator)] if i]\n",
    "\t\n",
    "\treturn [i.strip() for i in input.split(separator)]"
   ]
  },
  {
   "cell_type": "code",
   "execution_count": 52,
   "metadata": {},
   "outputs": [
    {
     "data": {
      "text/plain": [
       "['foo', 'bar', 'baz', 'diz']"
      ]
     },
     "execution_count": 52,
     "metadata": {},
     "output_type": "execute_result"
    }
   ],
   "source": [
    "array(\"foo,bar, baz   , diz\")"
   ]
  },
  {
   "cell_type": "code",
   "execution_count": 55,
   "metadata": {},
   "outputs": [
    {
     "data": {
      "text/plain": [
       "[]"
      ]
     },
     "execution_count": 55,
     "metadata": {},
     "output_type": "execute_result"
    }
   ],
   "source": [
    "array(\"   \")"
   ]
  },
  {
   "cell_type": "code",
   "execution_count": 56,
   "metadata": {},
   "outputs": [
    {
     "data": {
      "text/plain": [
       "[1, 2]"
      ]
     },
     "execution_count": 56,
     "metadata": {},
     "output_type": "execute_result"
    }
   ],
   "source": [
    "array([1, 2])"
   ]
  },
  {
   "cell_type": "code",
   "execution_count": 58,
   "metadata": {},
   "outputs": [
    {
     "data": {
      "text/plain": [
       "[1, 5]"
      ]
     },
     "execution_count": 58,
     "metadata": {},
     "output_type": "execute_result"
    }
   ],
   "source": [
    "array([1, \"\", 0, 5])  # Notable!"
   ]
  },
  {
   "cell_type": "code",
   "execution_count": 59,
   "metadata": {},
   "outputs": [
    {
     "data": {
      "text/plain": [
       "[1, '', 0, 5]"
      ]
     },
     "execution_count": 59,
     "metadata": {},
     "output_type": "execute_result"
    }
   ],
   "source": [
    "array([1, \"\", 0, 5], empty=True)"
   ]
  },
  {
   "cell_type": "code",
   "execution_count": null,
   "metadata": {},
   "outputs": [],
   "source": []
  }
 ],
 "metadata": {
  "kernelspec": {
   "display_name": "Python 3",
   "language": "python",
   "name": "python3"
  },
  "language_info": {
   "codemirror_mode": {
    "name": "ipython",
    "version": 3
   },
   "file_extension": ".py",
   "mimetype": "text/x-python",
   "name": "python",
   "nbconvert_exporter": "python",
   "pygments_lexer": "ipython3",
   "version": "3.9.1"
  }
 },
 "nbformat": 4,
 "nbformat_minor": 4
}
