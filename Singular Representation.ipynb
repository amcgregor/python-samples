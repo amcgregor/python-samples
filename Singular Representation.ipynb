{
 "cells": [
  {
   "cell_type": "markdown",
   "metadata": {},
   "source": [
    "# Singular Representation\n",
    "\n",
    "Singleton… or borg?\n",
    "\n",
    "To properly implement a singleton in Python requires either a factory `classmethod` be utilized, or a metaclass which can intervene in the process of constructing a new instance of the class it is used to describe.\n",
    "\n",
    "Each suffers from its own problems; multiple metaclasses can not contribute towards the construction of a single class, which can be restrictive. Factory methods, esp. mandatory factory methods, unnessicarily make code more verbose."
   ]
  },
  {
   "cell_type": "markdown",
   "metadata": {},
   "source": [
    "## The Factory Tactic"
   ]
  },
  {
   "cell_type": "code",
   "execution_count": 13,
   "metadata": {},
   "outputs": [],
   "source": [
    "class LazySingleton:\n",
    "    _instance = None  # We use a class attribute to store the singleton.\n",
    "    \n",
    "    @classmethod\n",
    "    def new(cls, *args, **kw):\n",
    "        if cls._instance is None:\n",
    "            cls._instance = cls(*args, **kw)\n",
    "        \n",
    "        return cls._instance"
   ]
  },
  {
   "cell_type": "code",
   "execution_count": 14,
   "metadata": {},
   "outputs": [
    {
     "data": {
      "text/plain": [
       "False"
      ]
     },
     "execution_count": 14,
     "metadata": {},
     "output_type": "execute_result"
    }
   ],
   "source": [
    "a = LazySingleton()\n",
    "b = LazySingleton()\n",
    "\n",
    "a is b"
   ]
  },
  {
   "cell_type": "code",
   "execution_count": 15,
   "metadata": {},
   "outputs": [
    {
     "data": {
      "text/plain": [
       "True"
      ]
     },
     "execution_count": 15,
     "metadata": {},
     "output_type": "execute_result"
    }
   ],
   "source": [
    "a = LazySingleton.new()\n",
    "b = LazySingleton.new()\n",
    "\n",
    "a is b"
   ]
  },
  {
   "cell_type": "markdown",
   "metadata": {},
   "source": [
    "## Metaclass Hill\n",
    "\n",
    "Use of a metaclass, while restrictive, is also far more elegant by seamlessly integrating into the standard object construction and instantiation process.\n",
    "\n",
    "Original [source](http://www.garyrobinson.net/2004/03/python_singleto.html)."
   ]
  },
  {
   "cell_type": "code",
   "execution_count": 16,
   "metadata": {},
   "outputs": [],
   "source": [
    "class Singleton(type):\n",
    "    def __init__(cls, name, bases, scope):\n",
    "        super(Singleton, cls).__init__(name, bases, scope)\n",
    "        cls.instance = None\n",
    "\n",
    "    def __call__(cls, *args, **kw):\n",
    "        if cls.instance is None:\n",
    "            cls.instance = super(Singleton, cls).__call__(*args, **kw)\n",
    "\n",
    "        return cls.instance"
   ]
  },
  {
   "cell_type": "code",
   "execution_count": 17,
   "metadata": {},
   "outputs": [],
   "source": [
    "class Singular(metaclass=Singleton):\n",
    "    ..."
   ]
  },
  {
   "cell_type": "code",
   "execution_count": 18,
   "metadata": {},
   "outputs": [
    {
     "data": {
      "text/plain": [
       "True"
      ]
     },
     "execution_count": 18,
     "metadata": {},
     "output_type": "execute_result"
    }
   ],
   "source": [
    "a = Singular()\n",
    "b = Singular()\n",
    "\n",
    "a is b"
   ]
  },
  {
   "cell_type": "markdown",
   "metadata": {},
   "source": [
    "## I am Popeye of Borg\n",
    "\n",
    "You will be askimilgrated.\n",
    "\n",
    "A more Pythonic approach to \"singletons\" is to produce the desired *effect* rather than following the exact implementation, which may favour the design of another language. I'm a Python developer, but work still forces me to take design pattern courses written for Java…"
   ]
  },
  {
   "cell_type": "code",
   "execution_count": 19,
   "metadata": {},
   "outputs": [],
   "source": [
    "class Borg:\n",
    "    __shared = {}\n",
    "    \n",
    "    def __init__(self):\n",
    "        self.__dict__ = self.__shared\n",
    "    \n",
    "    def __eq__(self, other) -> bool:\n",
    "        \"\"\"Implement equivalence testing by comparing the instance attribute stores.\"\"\"\n",
    "        \n",
    "        if not isinstance(other, Borg): return False\n",
    "        return self.__dict__ is getattr(other, '__dict__', None)\n",
    "        # We're careful, above, as not every object has a __dict__ attribute."
   ]
  },
  {
   "cell_type": "markdown",
   "metadata": {},
   "source": [
    "Hold up a minute, here.  This looks kinda weird.  Several things have been introduced at the same time, which is not usually very helpful for learning, so let's break it down.\n",
    "\n",
    "We create a class to do what we want. Standard code encapsulation technique. Check.\n",
    "\n",
    "This class has a class-scoped dictionary attribute named `__shared` — this is where the _data_ associated with each instance will be pooled. As can be seen within the constructor, we _re_-assign the `__dict__` attribute of the instance we are initializing, and swap it out for the shared dictionary instance.  This `__dict__` attribute is where attributes associated with only the instance (vs. shared and passed down from the class) are stored.\n",
    "\n",
    "Executing this, this doesn't *quite* behave like a singleton, as they're not singular:"
   ]
  },
  {
   "cell_type": "code",
   "execution_count": 20,
   "metadata": {},
   "outputs": [
    {
     "data": {
      "text/plain": [
       "False"
      ]
     },
     "execution_count": 20,
     "metadata": {},
     "output_type": "execute_result"
    }
   ],
   "source": [
    "a = Borg()\n",
    "b = Borg()\n",
    "\n",
    "a is b"
   ]
  },
  {
   "cell_type": "markdown",
   "metadata": {},
   "source": [
    "However, they are equal:"
   ]
  },
  {
   "cell_type": "code",
   "execution_count": 21,
   "metadata": {},
   "outputs": [
    {
     "data": {
      "text/plain": [
       "True"
      ]
     },
     "execution_count": 21,
     "metadata": {},
     "output_type": "execute_result"
    }
   ],
   "source": [
    "a == b"
   ]
  },
  {
   "cell_type": "markdown",
   "metadata": {},
   "source": [
    "And attributes assigned to one propagate to the other:"
   ]
  },
  {
   "cell_type": "code",
   "execution_count": 22,
   "metadata": {},
   "outputs": [
    {
     "data": {
      "text/plain": [
       "27"
      ]
     },
     "execution_count": 22,
     "metadata": {},
     "output_type": "execute_result"
    }
   ],
   "source": [
    "a.foo = 27\n",
    "b.foo"
   ]
  }
 ],
 "metadata": {
  "kernelspec": {
   "display_name": "Python 3",
   "language": "python",
   "name": "python3"
  },
  "language_info": {
   "codemirror_mode": {
    "name": "ipython",
    "version": 3
   },
   "file_extension": ".py",
   "mimetype": "text/x-python",
   "name": "python",
   "nbconvert_exporter": "python",
   "pygments_lexer": "ipython3",
   "version": "3.9.1"
  }
 },
 "nbformat": 4,
 "nbformat_minor": 4
}
