{
 "cells": [
  {
   "cell_type": "markdown",
   "metadata": {},
   "source": [
    "# Singular Representation\n",
    "\n",
    "Singleton… or borg?\n",
    "\n",
    "To properly implement a singleton in Python requires either a factory `classmethod` be utilized, or a metaclass which can intervene in the process of constructing a new instance of the class it is used to describe.\n",
    "\n",
    "Each suffers from its own problems; multiple metaclasses can not contribute towards the construction of a single class, which can be restrictive. Factory methods, esp. mandatory factory methods, unnessicarily make code more verbose."
   ]
  },
  {
   "cell_type": "markdown",
   "metadata": {},
   "source": [
    "## The Factory Tactic"
   ]
  },
  {
   "cell_type": "code",
   "execution_count": 3,
   "metadata": {},
   "outputs": [],
   "source": [
    "class LazySingleton:\n",
    "    _instance = None  # We use a class attribute to store the singleton.\n",
    "    \n",
    "    @classmethod\n",
    "    def new(cls, *args, **kw):\n",
    "        if cls._instance is None:\n",
    "            cls._instance = cls(*args, **kw)\n",
    "        \n",
    "        return cls._instance"
   ]
  },
  {
   "cell_type": "code",
   "execution_count": 4,
   "metadata": {},
   "outputs": [
    {
     "data": {
      "text/plain": [
       "False"
      ]
     },
     "execution_count": 4,
     "metadata": {},
     "output_type": "execute_result"
    }
   ],
   "source": [
    "a = LazySingleton()\n",
    "b = LazySingleton()\n",
    "\n",
    "a is b"
   ]
  },
  {
   "cell_type": "code",
   "execution_count": 5,
   "metadata": {},
   "outputs": [
    {
     "data": {
      "text/plain": [
       "True"
      ]
     },
     "execution_count": 5,
     "metadata": {},
     "output_type": "execute_result"
    }
   ],
   "source": [
    "a = LazySingleton.new()\n",
    "b = LazySingleton.new()\n",
    "\n",
    "a is b"
   ]
  },
  {
   "cell_type": "markdown",
   "metadata": {},
   "source": [
    "## Metaclass Hill\n",
    "\n",
    "Use of a metaclass, while restrictive, is also far more elegant by integrating into the standard object construction and in\n",
    "\n",
    "Original [source](http://www.garyrobinson.net/2004/03/python_singleto.html)."
   ]
  },
  {
   "cell_type": "code",
   "execution_count": 7,
   "metadata": {},
   "outputs": [],
   "source": [
    "class Singleton(type):\n",
    "    def __init__(cls, name, bases, scope):\n",
    "        super(Singleton, cls).__init__(name, bases, scope)\n",
    "        cls.instance = None\n",
    "\n",
    "    def __call__(cls, *args, **kw):\n",
    "        if cls.instance is None:\n",
    "            cls.instance = super(Singleton, cls).__call__(*args, **kw)\n",
    "\n",
    "        return cls.instance"
   ]
  },
  {
   "cell_type": "code",
   "execution_count": 9,
   "metadata": {},
   "outputs": [],
   "source": [
    "class Singular(metaclass=Singleton):\n",
    "    ..."
   ]
  },
  {
   "cell_type": "code",
   "execution_count": 10,
   "metadata": {},
   "outputs": [
    {
     "data": {
      "text/plain": [
       "True"
      ]
     },
     "execution_count": 10,
     "metadata": {},
     "output_type": "execute_result"
    }
   ],
   "source": [
    "a = Singular()\n",
    "b = Singular()\n",
    "\n",
    "a is b"
   ]
  }
 ],
 "metadata": {
  "kernelspec": {
   "display_name": "Python 3",
   "language": "python",
   "name": "python3"
  },
  "language_info": {
   "codemirror_mode": {
    "name": "ipython",
    "version": 3
   },
   "file_extension": ".py",
   "mimetype": "text/x-python",
   "name": "python",
   "nbconvert_exporter": "python",
   "pygments_lexer": "ipython3",
   "version": "3.9.1"
  }
 },
 "nbformat": 4,
 "nbformat_minor": 4
}
