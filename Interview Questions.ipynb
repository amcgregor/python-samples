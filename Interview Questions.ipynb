{
 "cells": [
  {
   "cell_type": "markdown",
   "id": "0836c2ae",
   "metadata": {},
   "source": [
    "# Alice's Interview Questions\n",
    "\n",
    "If you come in with these answers ready to roll, I'll ask different questions. ;)\n",
    "\n",
    "\n",
    "## Is the store open?\n",
    "\n",
    "My most common question is a simple one relating to commerce. Is the store open or closed?\n",
    "\n",
    "Let's define the source data, to begin with:"
   ]
  },
  {
   "cell_type": "code",
   "execution_count": 1,
   "id": "5d067e9a",
   "metadata": {},
   "outputs": [],
   "source": [
    "times = [\n",
    "    (\"00:00\", False),\n",
    "    (\"07:30\", True),\n",
    "    (\"12:00\", False),\n",
    "    (\"13:00\", True),\n",
    "    (\"17:30\", False)\n",
    "]"
   ]
  },
  {
   "cell_type": "markdown",
   "id": "a6e5bc6f",
   "metadata": {},
   "source": [
    "That's about it. The evaluation boils down to how you solve the following question—getting the correct answer is, essentially, beside-the-point:\n",
    "\n",
    "> If it's 3:15 PM, is the store open or closed?\n",
    "> Is the store open at 4:30 AM?\n",
    "\n",
    "There are a number of possible, technically valid solutions. The ones which would give me concern are any that require Google, first.\n",
    "\n",
    "\n",
    "### Brute force & ignorance.\n",
    "\n",
    "Now, that's not to say this answer is _wrong_ in any meaningful way. It demonstrates valuing solutions and practicality—getting the job done—over technical correctness or pixel–perfect refinement. This is fine!"
   ]
  },
  {
   "cell_type": "code",
   "execution_count": 2,
   "id": "e8fcc227",
   "metadata": {},
   "outputs": [
    {
     "name": "stdout",
     "output_type": "stream",
     "text": [
      "True\n"
     ]
    }
   ],
   "source": [
    "is_open = False\n",
    "\n",
    "for time, available in times:\n",
    "    if time > \"15:15\": break\n",
    "    is_open = available\n",
    "\n",
    "print(is_open)"
   ]
  },
  {
   "cell_type": "code",
   "execution_count": 3,
   "id": "d598951f",
   "metadata": {},
   "outputs": [
    {
     "name": "stdout",
     "output_type": "stream",
     "text": [
      "False\n"
     ]
    }
   ],
   "source": [
    "is_open = False\n",
    "\n",
    "for time, available in times:\n",
    "    if time > \"04:30\": break\n",
    "    is_open = available\n",
    "\n",
    "print(is_open)"
   ]
  },
  {
   "cell_type": "markdown",
   "id": "d9a6fb6d",
   "metadata": {},
   "source": [
    "Great success, we have our answer and this code would likely have taken only moments to write.\n",
    "\n",
    "\n",
    "### You've had training.\n",
    "\n",
    "Formal education has some benefits. If you mention sorting or bisection, but flounder with the code a bit, that's also a valid answer. You understand the \"most correct\" solution to apply, algorithmically, but might not be entirely sure what Python provides to implement such a solution. If you jump straight to [`bisect.bisect_left`](https://docs.python.org/3/library/bisect.html#bisect.bisect_left) I may grow suspicious and try a different question—this one was too easy!"
   ]
  },
  {
   "cell_type": "code",
   "execution_count": 4,
   "id": "062199c7",
   "metadata": {},
   "outputs": [
    {
     "name": "stdout",
     "output_type": "stream",
     "text": [
      "True\n",
      "False\n"
     ]
    }
   ],
   "source": [
    "from bisect import bisect_left\n",
    "\n",
    "print(times[bisect_left(times, (\"15:15\", None)) - 1][1])\n",
    "print(times[bisect_left(times, (\"04:30\", None)) - 1][1])"
   ]
  }
 ],
 "metadata": {
  "kernelspec": {
   "display_name": "Python 3",
   "language": "python",
   "name": "python3"
  },
  "language_info": {
   "codemirror_mode": {
    "name": "ipython",
    "version": 3
   },
   "file_extension": ".py",
   "mimetype": "text/x-python",
   "name": "python",
   "nbconvert_exporter": "python",
   "pygments_lexer": "ipython3",
   "version": "3.9.5"
  }
 },
 "nbformat": 4,
 "nbformat_minor": 5
}
