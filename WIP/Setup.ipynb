{
 "cells": [
  {
   "cell_type": "code",
   "execution_count": 3,
   "id": "387439b9",
   "metadata": {},
   "outputs": [
    {
     "name": "stdout",
     "output_type": "stream",
     "text": [
      "Defaulting to user installation because normal site-packages is not writeable\n",
      "Requirement already satisfied: setuptools in /usr/local/Cellar/ipython/8.4.0/libexec/lib/python3.10/site-packages (60.10.0)\n",
      "Collecting setuptools\n",
      "  Using cached setuptools-65.3.0-py3-none-any.whl (1.2 MB)\n",
      "Requirement already satisfied: pip in /usr/local/Cellar/ipython/8.4.0/libexec/lib/python3.10/site-packages (22.0.4)\n",
      "Collecting pip\n",
      "  Using cached pip-22.2.2-py3-none-any.whl (2.0 MB)\n",
      "Installing collected packages: setuptools, pip\n",
      "\u001b[33m  WARNING: The scripts pip, pip3 and pip3.8 are installed in '/Users/amcgregor/Library/Python/3.8/bin' which is not on PATH.\n",
      "  Consider adding this directory to PATH or, if you prefer to suppress this warning, use --no-warn-script-location.\u001b[0m\u001b[33m\n",
      "\u001b[0mSuccessfully installed pip-22.2.2 setuptools-65.3.0\n",
      "\u001b[33mWARNING: You are using pip version 22.0.4; however, version 22.2.2 is available.\n",
      "You should consider upgrading via the '/Applications/Xcode.app/Contents/Developer/usr/bin/python3 -m pip install --upgrade pip' command.\u001b[0m\u001b[33m\n",
      "\u001b[0m"
     ]
    }
   ],
   "source": [
    "!pip3 install -U setuptools pip"
   ]
  },
  {
   "cell_type": "code",
   "execution_count": 4,
   "id": "df5bc64e",
   "metadata": {},
   "outputs": [
    {
     "name": "stdout",
     "output_type": "stream",
     "text": [
      "Defaulting to user installation because normal site-packages is not writeable\n",
      "Requirement already satisfied: jupyterthemes in /Users/amcgregor/Library/Python/3.8/lib/python/site-packages (0.20.0)\n",
      "Requirement already satisfied: jupyter-core in /usr/local/Cellar/ipython/8.4.0/libexec/lib/python3.10/site-packages (from jupyterthemes) (4.10.0)\n",
      "Requirement already satisfied: ipython>=5.4.1 in /usr/local/Cellar/ipython/8.4.0/libexec/lib/python3.10/site-packages (from jupyterthemes) (8.4.0)\n",
      "Requirement already satisfied: matplotlib>=1.4.3 in /Users/amcgregor/Library/Python/3.8/lib/python/site-packages (from jupyterthemes) (3.5.3)\n",
      "Requirement already satisfied: notebook>=5.6.0 in /Users/amcgregor/Library/Python/3.8/lib/python/site-packages (from jupyterthemes) (6.4.12)\n",
      "Requirement already satisfied: lesscpy>=0.11.2 in /Users/amcgregor/Library/Python/3.8/lib/python/site-packages (from jupyterthemes) (0.15.0)\n",
      "Requirement already satisfied: pexpect>4.3 in /usr/local/Cellar/ipython/8.4.0/libexec/lib/python3.10/site-packages (from ipython>=5.4.1->jupyterthemes) (4.8.0)\n",
      "Requirement already satisfied: stack-data in /usr/local/Cellar/ipython/8.4.0/libexec/lib/python3.10/site-packages (from ipython>=5.4.1->jupyterthemes) (0.2.0)\n",
      "Requirement already satisfied: appnope in /usr/local/Cellar/ipython/8.4.0/libexec/lib/python3.10/site-packages (from ipython>=5.4.1->jupyterthemes) (0.1.3)\n",
      "Requirement already satisfied: jedi>=0.16 in /usr/local/Cellar/ipython/8.4.0/libexec/lib/python3.10/site-packages (from ipython>=5.4.1->jupyterthemes) (0.18.1)\n",
      "Requirement already satisfied: traitlets>=5 in /usr/local/Cellar/ipython/8.4.0/libexec/lib/python3.10/site-packages (from ipython>=5.4.1->jupyterthemes) (5.2.1.post0)\n",
      "Requirement already satisfied: pickleshare in /usr/local/Cellar/ipython/8.4.0/libexec/lib/python3.10/site-packages (from ipython>=5.4.1->jupyterthemes) (0.7.5)\n",
      "Requirement already satisfied: setuptools>=18.5 in /usr/local/Cellar/ipython/8.4.0/libexec/lib/python3.10/site-packages (from ipython>=5.4.1->jupyterthemes) (60.10.0)\n",
      "Requirement already satisfied: backcall in /usr/local/Cellar/ipython/8.4.0/libexec/lib/python3.10/site-packages (from ipython>=5.4.1->jupyterthemes) (0.2.0)\n",
      "Requirement already satisfied: pygments>=2.4.0 in /usr/local/Cellar/ipython/8.4.0/libexec/lib/python3.10/site-packages (from ipython>=5.4.1->jupyterthemes) (2.12.0)\n",
      "Requirement already satisfied: matplotlib-inline in /usr/local/Cellar/ipython/8.4.0/libexec/lib/python3.10/site-packages (from ipython>=5.4.1->jupyterthemes) (0.1.3)\n",
      "Requirement already satisfied: prompt-toolkit!=3.0.0,!=3.0.1,<3.1.0,>=2.0.0 in /usr/local/Cellar/ipython/8.4.0/libexec/lib/python3.10/site-packages (from ipython>=5.4.1->jupyterthemes) (3.0.29)\n",
      "Requirement already satisfied: decorator in /usr/local/Cellar/ipython/8.4.0/libexec/lib/python3.10/site-packages (from ipython>=5.4.1->jupyterthemes) (5.1.1)\n",
      "Requirement already satisfied: ply in /Users/amcgregor/Library/Python/3.8/lib/python/site-packages (from lesscpy>=0.11.2->jupyterthemes) (3.11)\n",
      "Requirement already satisfied: six in /Applications/Xcode.app/Contents/Developer/Library/Frameworks/Python3.framework/Versions/3.8/lib/python3.8/site-packages (from lesscpy>=0.11.2->jupyterthemes) (1.15.0)\n",
      "Requirement already satisfied: python-dateutil>=2.7 in /usr/local/Cellar/ipython/8.4.0/libexec/lib/python3.10/site-packages (from matplotlib>=1.4.3->jupyterthemes) (2.8.2)\n",
      "Requirement already satisfied: cycler>=0.10 in /Users/amcgregor/Library/Python/3.8/lib/python/site-packages (from matplotlib>=1.4.3->jupyterthemes) (0.11.0)\n",
      "Requirement already satisfied: packaging>=20.0 in /usr/local/Cellar/ipython/8.4.0/libexec/lib/python3.10/site-packages (from matplotlib>=1.4.3->jupyterthemes) (21.3)\n",
      "Requirement already satisfied: numpy>=1.17 in /Users/amcgregor/Library/Python/3.8/lib/python/site-packages (from matplotlib>=1.4.3->jupyterthemes) (1.23.2)\n",
      "Requirement already satisfied: pillow>=6.2.0 in /Users/amcgregor/Library/Python/3.8/lib/python/site-packages (from matplotlib>=1.4.3->jupyterthemes) (9.2.0)\n",
      "Requirement already satisfied: pyparsing>=2.2.1 in /usr/local/Cellar/ipython/8.4.0/libexec/lib/python3.10/site-packages (from matplotlib>=1.4.3->jupyterthemes) (3.0.9)\n",
      "Requirement already satisfied: kiwisolver>=1.0.1 in /Users/amcgregor/Library/Python/3.8/lib/python/site-packages (from matplotlib>=1.4.3->jupyterthemes) (1.4.4)\n",
      "Requirement already satisfied: fonttools>=4.22.0 in /Users/amcgregor/Library/Python/3.8/lib/python/site-packages (from matplotlib>=1.4.3->jupyterthemes) (4.37.1)\n",
      "Requirement already satisfied: tornado>=6.1 in /usr/local/Cellar/ipython/8.4.0/libexec/lib/python3.10/site-packages (from notebook>=5.6.0->jupyterthemes) (6.1)\n",
      "Requirement already satisfied: jupyter-client>=5.3.4 in /usr/local/Cellar/ipython/8.4.0/libexec/lib/python3.10/site-packages (from notebook>=5.6.0->jupyterthemes) (7.3.1)\n",
      "Requirement already satisfied: nbformat in /Users/amcgregor/Library/Python/3.8/lib/python/site-packages (from notebook>=5.6.0->jupyterthemes) (5.4.0)\n",
      "Requirement already satisfied: pyzmq>=17 in /usr/local/Cellar/ipython/8.4.0/libexec/lib/python3.10/site-packages (from notebook>=5.6.0->jupyterthemes) (23.0.0)\n",
      "Requirement already satisfied: terminado>=0.8.3 in /Users/amcgregor/Library/Python/3.8/lib/python/site-packages (from notebook>=5.6.0->jupyterthemes) (0.15.0)\n",
      "Requirement already satisfied: jinja2 in /Users/amcgregor/Library/Python/3.8/lib/python/site-packages (from notebook>=5.6.0->jupyterthemes) (3.1.2)\n",
      "Requirement already satisfied: nest-asyncio>=1.5 in /usr/local/Cellar/ipython/8.4.0/libexec/lib/python3.10/site-packages (from notebook>=5.6.0->jupyterthemes) (1.5.5)\n",
      "Requirement already satisfied: ipython-genutils in /Users/amcgregor/Library/Python/3.8/lib/python/site-packages (from notebook>=5.6.0->jupyterthemes) (0.2.0)\n",
      "Requirement already satisfied: nbconvert>=5 in /Users/amcgregor/Library/Python/3.8/lib/python/site-packages (from notebook>=5.6.0->jupyterthemes) (7.0.0)\n",
      "Requirement already satisfied: Send2Trash>=1.8.0 in /Users/amcgregor/Library/Python/3.8/lib/python/site-packages (from notebook>=5.6.0->jupyterthemes) (1.8.0)\n",
      "Requirement already satisfied: ipykernel in /usr/local/Cellar/ipython/8.4.0/libexec/lib/python3.10/site-packages (from notebook>=5.6.0->jupyterthemes) (6.13.0)\n",
      "Requirement already satisfied: prometheus-client in /Users/amcgregor/Library/Python/3.8/lib/python/site-packages (from notebook>=5.6.0->jupyterthemes) (0.14.1)\n",
      "Requirement already satisfied: argon2-cffi in /Users/amcgregor/Library/Python/3.8/lib/python/site-packages (from notebook>=5.6.0->jupyterthemes) (21.3.0)\n",
      "Requirement already satisfied: parso<0.9.0,>=0.8.0 in /usr/local/Cellar/ipython/8.4.0/libexec/lib/python3.10/site-packages (from jedi>=0.16->ipython>=5.4.1->jupyterthemes) (0.8.3)\n",
      "Requirement already satisfied: entrypoints in /usr/local/Cellar/ipython/8.4.0/libexec/lib/python3.10/site-packages (from jupyter-client>=5.3.4->notebook>=5.6.0->jupyterthemes) (0.4)\n",
      "Requirement already satisfied: jupyterlab-pygments in /Users/amcgregor/Library/Python/3.8/lib/python/site-packages (from nbconvert>=5->notebook>=5.6.0->jupyterthemes) (0.2.2)\n",
      "Requirement already satisfied: lxml in /Users/amcgregor/Library/Python/3.8/lib/python/site-packages (from nbconvert>=5->notebook>=5.6.0->jupyterthemes) (4.9.1)\n",
      "Requirement already satisfied: markupsafe>=2.0 in /Users/amcgregor/Library/Python/3.8/lib/python/site-packages (from nbconvert>=5->notebook>=5.6.0->jupyterthemes) (2.1.1)\n",
      "Requirement already satisfied: mistune<3,>=2.0.3 in /Users/amcgregor/Library/Python/3.8/lib/python/site-packages (from nbconvert>=5->notebook>=5.6.0->jupyterthemes) (2.0.4)\n",
      "Requirement already satisfied: nbclient>=0.5.0 in /Users/amcgregor/Library/Python/3.8/lib/python/site-packages (from nbconvert>=5->notebook>=5.6.0->jupyterthemes) (0.6.7)\n",
      "Requirement already satisfied: bleach in /Users/amcgregor/Library/Python/3.8/lib/python/site-packages (from nbconvert>=5->notebook>=5.6.0->jupyterthemes) (5.0.1)\n",
      "Requirement already satisfied: importlib-metadata>=3.6 in /Users/amcgregor/Library/Python/3.8/lib/python/site-packages (from nbconvert>=5->notebook>=5.6.0->jupyterthemes) (4.12.0)\n",
      "Requirement already satisfied: pandocfilters>=1.4.1 in /Users/amcgregor/Library/Python/3.8/lib/python/site-packages (from nbconvert>=5->notebook>=5.6.0->jupyterthemes) (1.5.0)\n",
      "Requirement already satisfied: tinycss2 in /Users/amcgregor/Library/Python/3.8/lib/python/site-packages (from nbconvert>=5->notebook>=5.6.0->jupyterthemes) (1.1.1)\n",
      "Requirement already satisfied: beautifulsoup4 in /Users/amcgregor/Library/Python/3.8/lib/python/site-packages (from nbconvert>=5->notebook>=5.6.0->jupyterthemes) (4.11.1)\n",
      "Requirement already satisfied: defusedxml in /Users/amcgregor/Library/Python/3.8/lib/python/site-packages (from nbconvert>=5->notebook>=5.6.0->jupyterthemes) (0.7.1)\n",
      "Requirement already satisfied: jsonschema>=2.6 in /Users/amcgregor/Library/Python/3.8/lib/python/site-packages (from nbformat->notebook>=5.6.0->jupyterthemes) (4.15.0)\n",
      "Requirement already satisfied: fastjsonschema in /Users/amcgregor/Library/Python/3.8/lib/python/site-packages (from nbformat->notebook>=5.6.0->jupyterthemes) (2.16.1)\n",
      "Requirement already satisfied: ptyprocess>=0.5 in /usr/local/Cellar/ipython/8.4.0/libexec/lib/python3.10/site-packages (from pexpect>4.3->ipython>=5.4.1->jupyterthemes) (0.7.0)\n"
     ]
    },
    {
     "name": "stdout",
     "output_type": "stream",
     "text": [
      "Requirement already satisfied: wcwidth in /usr/local/Cellar/ipython/8.4.0/libexec/lib/python3.10/site-packages (from prompt-toolkit!=3.0.0,!=3.0.1,<3.1.0,>=2.0.0->ipython>=5.4.1->jupyterthemes) (0.2.5)\n",
      "Requirement already satisfied: argon2-cffi-bindings in /Users/amcgregor/Library/Python/3.8/lib/python/site-packages (from argon2-cffi->notebook>=5.6.0->jupyterthemes) (21.2.0)\n",
      "Requirement already satisfied: debugpy>=1.0 in /usr/local/Cellar/ipython/8.4.0/libexec/lib/python3.10/site-packages (from ipykernel->notebook>=5.6.0->jupyterthemes) (1.5.1)\n",
      "Requirement already satisfied: psutil in /usr/local/Cellar/ipython/8.4.0/libexec/lib/python3.10/site-packages (from ipykernel->notebook>=5.6.0->jupyterthemes) (5.9.1)\n",
      "Requirement already satisfied: asttokens in /usr/local/Cellar/ipython/8.4.0/libexec/lib/python3.10/site-packages (from stack-data->ipython>=5.4.1->jupyterthemes) (2.0.5)\n",
      "Requirement already satisfied: executing in /usr/local/Cellar/ipython/8.4.0/libexec/lib/python3.10/site-packages (from stack-data->ipython>=5.4.1->jupyterthemes) (0.8.3)\n",
      "Requirement already satisfied: pure-eval in /usr/local/Cellar/ipython/8.4.0/libexec/lib/python3.10/site-packages (from stack-data->ipython>=5.4.1->jupyterthemes) (0.2.2)\n",
      "Requirement already satisfied: zipp>=0.5 in /Users/amcgregor/Library/Python/3.8/lib/python/site-packages (from importlib-metadata>=3.6->nbconvert>=5->notebook>=5.6.0->jupyterthemes) (3.8.1)\n",
      "Requirement already satisfied: pyrsistent!=0.17.0,!=0.17.1,!=0.17.2,>=0.14.0 in /Users/amcgregor/Library/Python/3.8/lib/python/site-packages (from jsonschema>=2.6->nbformat->notebook>=5.6.0->jupyterthemes) (0.18.1)\n",
      "Requirement already satisfied: importlib-resources>=1.4.0 in /Users/amcgregor/Library/Python/3.8/lib/python/site-packages (from jsonschema>=2.6->nbformat->notebook>=5.6.0->jupyterthemes) (5.9.0)\n",
      "Requirement already satisfied: pkgutil-resolve-name>=1.3.10 in /Users/amcgregor/Library/Python/3.8/lib/python/site-packages (from jsonschema>=2.6->nbformat->notebook>=5.6.0->jupyterthemes) (1.3.10)\n",
      "Requirement already satisfied: attrs>=17.4.0 in /Users/amcgregor/Library/Python/3.8/lib/python/site-packages (from jsonschema>=2.6->nbformat->notebook>=5.6.0->jupyterthemes) (22.1.0)\n",
      "Collecting traitlets>=5\n",
      "  Using cached traitlets-5.3.0-py3-none-any.whl (106 kB)\n",
      "Requirement already satisfied: cffi>=1.0.1 in /Users/amcgregor/Library/Python/3.8/lib/python/site-packages (from argon2-cffi-bindings->argon2-cffi->notebook>=5.6.0->jupyterthemes) (1.15.1)\n",
      "Requirement already satisfied: soupsieve>1.2 in /Users/amcgregor/Library/Python/3.8/lib/python/site-packages (from beautifulsoup4->nbconvert>=5->notebook>=5.6.0->jupyterthemes) (2.3.2.post1)\n",
      "Requirement already satisfied: webencodings in /Users/amcgregor/Library/Python/3.8/lib/python/site-packages (from bleach->nbconvert>=5->notebook>=5.6.0->jupyterthemes) (0.5.1)\n",
      "Requirement already satisfied: pycparser in /Users/amcgregor/Library/Python/3.8/lib/python/site-packages (from cffi>=1.0.1->argon2-cffi-bindings->argon2-cffi->notebook>=5.6.0->jupyterthemes) (2.21)\n",
      "Installing collected packages: traitlets\n",
      "Successfully installed traitlets-5.3.0\n",
      "\u001b[33mWARNING: You are using pip version 22.0.4; however, version 22.2.2 is available.\n",
      "You should consider upgrading via the '/Applications/Xcode.app/Contents/Developer/usr/bin/python3 -m pip install --upgrade pip' command.\u001b[0m\u001b[33m\n",
      "\u001b[0m"
     ]
    }
   ],
   "source": [
    "!pip3 install jupyterthemes"
   ]
  },
  {
   "cell_type": "code",
   "execution_count": 5,
   "id": "b38fcf53",
   "metadata": {},
   "outputs": [
    {
     "name": "stdout",
     "output_type": "stream",
     "text": [
      "zsh:1: command not found: jt\r\n"
     ]
    }
   ],
   "source": [
    "!jt -t oceans16 -f hasklig -s 15 -ofs 12 "
   ]
  }
 ],
 "metadata": {
  "kernelspec": {
   "display_name": "Python 3 (ipykernel)",
   "language": "python",
   "name": "python3"
  },
  "language_info": {
   "codemirror_mode": {
    "name": "ipython",
    "version": 3
   },
   "file_extension": ".py",
   "mimetype": "text/x-python",
   "name": "python",
   "nbconvert_exporter": "python",
   "pygments_lexer": "ipython3",
   "version": "3.10.6"
  }
 },
 "nbformat": 4,
 "nbformat_minor": 5
}
