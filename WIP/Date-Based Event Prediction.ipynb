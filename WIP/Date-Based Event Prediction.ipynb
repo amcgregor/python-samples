{
 "cells": [
  {
   "cell_type": "code",
   "execution_count": 1,
   "id": "f7a922a8",
   "metadata": {},
   "outputs": [],
   "source": [
    "# Imports\n",
    "\n",
    "from copy import deepcopy as copy\n",
    "from datetime import date, datetime, timedelta\n",
    "from bisect import insort\n",
    "from json import load as json\n",
    "from pathlib import PosixPath"
   ]
  },
  {
   "cell_type": "code",
   "execution_count": 2,
   "id": "3b64acb6",
   "metadata": {},
   "outputs": [
    {
     "data": {
      "text/plain": [
       "PosixPath('/Volumes/Podcasts')"
      ]
     },
     "execution_count": 2,
     "metadata": {},
     "output_type": "execute_result"
    }
   ],
   "source": [
    "# Configuration\n",
    "\n",
    "BASE = PosixPath(\"/Volumes/Podcasts\")\n",
    "\n",
    "BASE"
   ]
  },
  {
   "cell_type": "code",
   "execution_count": 3,
   "id": "dc8fcd1f",
   "metadata": {},
   "outputs": [
    {
     "data": {
      "text/plain": [
       "{'dates': [],\n",
       " 'dotw': [0, 0, 0, 0, 0, 0, 0],\n",
       " 'm': [0, 0, 0, 0, 0, 0, 0, 0, 0, 0, 0, 0],\n",
       " 'delta': [],\n",
       " 'd': [Ellipsis]}"
      ]
     },
     "execution_count": 3,
     "metadata": {},
     "output_type": "execute_result"
    }
   ],
   "source": [
    "# Working State\n",
    "\n",
    "_TEMPLATE = {'dates': [], 'dotw': [0] * 7, 'm': [0] * 12, 'delta': [], 'd': [...]}\n",
    "\n",
    "DATA = {}\n",
    "\n",
    "_TEMPLATE"
   ]
  },
  {
   "cell_type": "code",
   "execution_count": 4,
   "id": "645a1c30",
   "metadata": {},
   "outputs": [],
   "source": [
    "#_TEMPLATE['d'] = [0] * 31  # Populate out the per-day cluster."
   ]
  },
  {
   "cell_type": "code",
   "execution_count": 15,
   "id": "02dc44e1",
   "metadata": {},
   "outputs": [
    {
     "data": {
      "text/plain": [
       "(PosixPath('/Volumes/Podcasts'),\n",
       " PosixPath('/Volumes/Podcasts/Ozzy-Man-Reviews/20200615--a_5C32yuPms--Ozzy_Man_Reviews_-_Magic_Mayhem--1920x1080.info.json'))"
      ]
     },
     "execution_count": 15,
     "metadata": {},
     "output_type": "execute_result"
    }
   ],
   "source": [
    "fname = next(BASE.rglob('**/*.info.json'))\n",
    "BASE, fname"
   ]
  },
  {
   "cell_type": "code",
   "execution_count": 16,
   "id": "f177c1b7",
   "metadata": {},
   "outputs": [
    {
     "data": {
      "text/plain": [
       "('Ozzy Man Reviews', datetime.date(2020, 6, 15))"
      ]
     },
     "execution_count": 16,
     "metadata": {},
     "output_type": "execute_result"
    }
   ],
   "source": [
    "data = json(fname.open('r'))\n",
    "del data['thumbnails']\n",
    "del data['description']\n",
    "del data['tags']\n",
    "del data['formats']\n",
    "\n",
    "DATA.setdefault(data['uploader'], copy(_TEMPLATE))\n",
    "\n",
    "data['uploader'], date(int(data['upload_date'][:4]), int(data['upload_date'][4:6]), int(data['upload_date'][6:8]))"
   ]
  },
  {
   "cell_type": "code",
   "execution_count": 17,
   "id": "119cd935",
   "metadata": {},
   "outputs": [],
   "source": [
    "for fname in BASE.rglob('*.info.json'):\n",
    "    data = json(fname.open('r'))\n",
    "    dset = DATA.setdefault(data['uploader'], copy(_TEMPLATE))\n",
    "    \n",
    "    if 'upload_date' not in data:\n",
    "        data\n",
    "        break\n",
    "    \n",
    "    d = date(int(data['upload_date'][:4]), int(data['upload_date'][4:6]), int(data['upload_date'][6:8]))\n",
    "    \n",
    "    dset['dates'].append(d)\n",
    "    dset['dotw'][d.isoweekday() - 1] += 1\n",
    "\n",
    "\n",
    "for k in DATA.keys():\n",
    "    DATA[k]['dates'].sort()\n"
   ]
  },
  {
   "cell_type": "code",
   "execution_count": 18,
   "id": "f53669c0",
   "metadata": {
    "scrolled": true
   },
   "outputs": [
    {
     "data": {
      "text/plain": [
       "dict_keys(['Ozzy Man Reviews'])"
      ]
     },
     "execution_count": 18,
     "metadata": {},
     "output_type": "execute_result"
    }
   ],
   "source": [
    "DATA.keys()"
   ]
  }
 ],
 "metadata": {
  "kernelspec": {
   "display_name": "Python 3 (ipykernel)",
   "language": "python",
   "name": "python3"
  },
  "language_info": {
   "codemirror_mode": {
    "name": "ipython",
    "version": 3
   },
   "file_extension": ".py",
   "mimetype": "text/x-python",
   "name": "python",
   "nbconvert_exporter": "python",
   "pygments_lexer": "ipython3",
   "version": "3.9.9"
  }
 },
 "nbformat": 4,
 "nbformat_minor": 5
}
