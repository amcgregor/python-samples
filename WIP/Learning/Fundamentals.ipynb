{
 "cells": [
  {
   "cell_type": "markdown",
   "id": "e857ac31",
   "metadata": {},
   "source": [
    "# Introduction to Python Fundamentals\n",
    "\n",
    "Welcome!\n",
    "\n",
    "I'm not going to assume much in the way of formal programming experience through this, so we'll absolutely start from the beginning. Really the beginning. Important terms that may be worthwhile to write down or search for will be found italisized, and acronyms will be expanded the first time they're used.\n",
    "\n",
    "\n",
    "## Structuring Code\n",
    "\n",
    "Code in Python is organized on disk into _packages_ (directories or folders) which contain _modules_ (Python source files ending in `.py`). The directory structure impacts how you will reference these modules when _importing_ them for use later.\n",
    "\n",
    "Within the modules themselves, actual code to execute is then further divided into different _scopes_. The module scope is the \"top level\", represented by the whole module file itself. Within this you are free to organize your code into:\n",
    "\n",
    "* **Functions** are each given their own scope when invoked. Python does not make a distinction between _procedures_ and _functions_ as some languages such as Pascal do. In Python, all functions return **something**. The default, if \"rolling off the bottom\", is to return `None`.\n",
    "\n",
    "* **Classes** are also given their own scope—called the _class body_—though there are more opportunities for other code to \"intervene\" the construction process. *Metaclasses* are unfortunately beyond the scope of this introduction.\n",
    "\n",
    "We'll get into these a bit later. Beyond the _logical structure_ of your code, there really only exist two types of \"code\" in the sense we're usually familiar with:\n",
    "\n",
    "* **Expressions** are anything you might generally consider a mathematical formulae; something with a tangible result as the output of some calculation. Even calling a function is, itself, an expression saying \"use the result of invoking this function\"—even if it's never actually used!\n",
    "\n",
    "* **Statements** generally control the flow of your application's execution. In Python, programs are read and executed generally top to bottom, line by line. (There are exceptions, but I'll skip those for now.) Everything in the same category as `if`, `else`, `when`, `except`, `return`, and so forth, are statements.\n",
    "\n",
    "  Python has two major classifications of these: [simple statements](https://docs.python.org/3/reference/simple_stmts.html), and [compound statements](https://docs.python.org/3/reference/compound_stmts.html), for those that wish to dive more fully into the technical details.\n",
    "\n",
    "\n",
    "\n",
    "## The Most Expensive Calculator You've Ever Owned\n",
    "\n",
    "Before we really kick off demonstrating bits of code there's an important point to understand first. Programs are made up of two types of code, largely:\n",
    "\n",
    "### An Introduction to Expressions\n",
    "\n",
    "What is a number?"
   ]
  },
  {
   "cell_type": "code",
   "execution_count": 1,
   "id": "d549bb66",
   "metadata": {},
   "outputs": [
    {
     "data": {
      "text/plain": [
       "27"
      ]
     },
     "execution_count": 1,
     "metadata": {},
     "output_type": "execute_result"
    }
   ],
   "source": [
    "27"
   ]
  },
  {
   "cell_type": "markdown",
   "id": "92fa2aea",
   "metadata": {},
   "source": [
    "Exciting, isn't it? That, right there, is code. Really! … it might not seem like much, but it's a start.\n",
    "\n",
    "Well, what can we do from here? We can try to do something with that number."
   ]
  },
  {
   "cell_type": "code",
   "execution_count": 2,
   "id": "eb8d22d2",
   "metadata": {},
   "outputs": [
    {
     "data": {
      "text/plain": [
       "1134"
      ]
     },
     "execution_count": 2,
     "metadata": {},
     "output_type": "execute_result"
    }
   ],
   "source": [
    "27 * 42"
   ]
  },
  {
   "cell_type": "markdown",
   "id": "991fb4a6",
   "metadata": {},
   "source": [
    "We now have code that does more than just load a _constant_ value, it performs a calculation using two of them with an _operator_ to identify the calculation we desire. Python, as most programming languages do, defines **many** operators, and even provides a _functional_ [mapping of them](https://docs.python.org/3/library/operator.html#mapping-operators-to-functions). There's only one problem: this was executed in a \"read-evaluate-print-loop\" (REPL) interactive session. That calculation was performed only once, right there. And it's essentially gone.\n",
    "\n",
    "What if we wanted to produce a mathematical function—a [_pure function_](https://docs.python.org/3/tutorial/introduction.html)—to repeatedly calculate this value? We could wrap it up in one of two ways:\n",
    "\n",
    "* **Lambda expressions** create a single-expression \"[_anonymous function_](https://en.wikipedia.org/wiki/Anonymous_function)\" that may optionally take some arguments. These are very mathematical by nature.\n",
    "\n",
    "* **A function** with a known name, which may contain any amount of code within it.\n",
    "\n",
    "Below are demonstrations of both. In this ultra-simplified case, I would lean towards the lambda function approach. They're particularly useful for very small callbacks in areas such as sorting, akin to an [_arrow function_](https://developer.mozilla.org/en-US/docs/Web/JavaScript/Reference/Functions/Arrow_functions) in ECMAScript / JavaScript. After the code block defining them, there's a pair of blocks testing out to see if there's a performance difference when using them. (Turns out, there isn't!)"
   ]
  },
  {
   "cell_type": "code",
   "execution_count": 4,
   "id": "254c9aee",
   "metadata": {},
   "outputs": [],
   "source": [
    "def calculate1():\n",
    "    return 27 * 42\n",
    "\n",
    "\n",
    "calculate2 = lambda: 27 * 42"
   ]
  },
  {
   "cell_type": "code",
   "execution_count": 8,
   "id": "64d3b4d7",
   "metadata": {},
   "outputs": [
    {
     "name": "stdout",
     "output_type": "stream",
     "text": [
      "58.6 ns ± 0.603 ns per loop (mean ± std. dev. of 7 runs, 10000000 loops each)\n"
     ]
    }
   ],
   "source": [
    "%timeit calculate1()"
   ]
  },
  {
   "cell_type": "code",
   "execution_count": 9,
   "id": "e9dc20fa",
   "metadata": {},
   "outputs": [
    {
     "name": "stdout",
     "output_type": "stream",
     "text": [
      "57.9 ns ± 0.235 ns per loop (mean ± std. dev. of 7 runs, 10000000 loops each)\n"
     ]
    }
   ],
   "source": [
    "%timeit calculate2()"
   ]
  },
  {
   "cell_type": "code",
   "execution_count": null,
   "id": "26e56b3d",
   "metadata": {},
   "outputs": [],
   "source": []
  }
 ],
 "metadata": {
  "kernelspec": {
   "display_name": "Python 3",
   "language": "python",
   "name": "python3"
  },
  "language_info": {
   "codemirror_mode": {
    "name": "ipython",
    "version": 3
   },
   "file_extension": ".py",
   "mimetype": "text/x-python",
   "name": "python",
   "nbconvert_exporter": "python",
   "pygments_lexer": "ipython3",
   "version": "3.9.5"
  }
 },
 "nbformat": 4,
 "nbformat_minor": 5
}
