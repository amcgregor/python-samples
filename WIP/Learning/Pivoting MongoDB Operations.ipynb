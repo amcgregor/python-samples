{
 "cells": [
  {
   "cell_type": "code",
   "execution_count": 30,
   "id": "47059ba0",
   "metadata": {},
   "outputs": [
    {
     "data": {
      "text/plain": [
       "{'$set': {'name': 'Bob Dole', 'title': 'Lead Architect, RITA Sourcer'},\n",
       " '$add': {'age': 1}}"
      ]
     },
     "execution_count": 30,
     "metadata": {},
     "output_type": "execute_result"
    }
   ],
   "source": [
    "# Given pending operations such as the following:\n",
    "\n",
    "pending = {\n",
    "        'name': ('$set', \"Bob Dole\"),\n",
    "        'title': ('$set', \"Lead Architect, RITA Sourcer\"),\n",
    "        'age': ('$add', 1),\n",
    "    }\n",
    "\n",
    "# How do we then get actual MongoDB operations out of this?\n",
    "# The primary key is the field, not operation.\n",
    "# MongoDB wants operations at the top level.\n",
    "\n",
    "operations = {}\n",
    "\n",
    "for field, (oper, value) in pending.items():\n",
    "    operations.setdefault(oper, {})[field] = value\n",
    "\n",
    "operations"
   ]
  },
  {
   "cell_type": "code",
   "execution_count": 31,
   "id": "b8e9e649",
   "metadata": {},
   "outputs": [
    {
     "name": "stdout",
     "output_type": "stream",
     "text": [
      "I'm active.\n"
     ]
    },
    {
     "data": {
      "text/plain": [
       "__main__.ActiveString"
      ]
     },
     "execution_count": 31,
     "metadata": {},
     "output_type": "execute_result"
    }
   ],
   "source": [
    "class Field:\n",
    "    pass\n",
    "\n",
    "class String(Field):\n",
    "    pass\n",
    "\n",
    "class _ActiveField(Field):\n",
    "    hi = \"I'm active.\"\n",
    "\n",
    "\n",
    "class CachedMixinFactory(dict):\n",
    "\tdef __missing__(self, cls):\n",
    "\t\tif isinstance(cls, Field): cls = cls.__class__\n",
    "\t\tif not issubclass(cls, Field) or issubclass(cls, _ActiveField): return cls\n",
    "\t\t\n",
    "\t\tnew_class = cls.__class__('Active' + cls.__name__, (cls, _ActiveField), {})\n",
    "\t\t\n",
    "\t\tself[cls] = new_class\n",
    "\t\treturn new_class\n",
    "\n",
    "\n",
    "cache = CachedMixinFactory()\n",
    "print(cache[String()].hi)\n",
    "cache[String]"
   ]
  }
 ],
 "metadata": {
  "kernelspec": {
   "display_name": "Python 3",
   "language": "python",
   "name": "python3"
  },
  "language_info": {
   "codemirror_mode": {
    "name": "ipython",
    "version": 3
   },
   "file_extension": ".py",
   "mimetype": "text/x-python",
   "name": "python",
   "nbconvert_exporter": "python",
   "pygments_lexer": "ipython3",
   "version": "3.9.6"
  }
 },
 "nbformat": 4,
 "nbformat_minor": 5
}
