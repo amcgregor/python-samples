{
 "cells": [
  {
   "cell_type": "markdown",
   "id": "8f45e4ab-f6db-489f-ba65-4ee5ed9bcbcf",
   "metadata": {},
   "source": [
    "# Parsing and Manipulating URI / URL\n",
    "\n",
    "As Python is a major force in web-based applications development, invariably a frequent need will be to generate, parse, or manipulate a [_Uniform Resource Identifier_](https://en.wikipedia.org/wiki/Uniform_Resource_Identifier) or URI — a.k.a. [_Uniform Resource Locator_](https://en.wikipedia.org/wiki/URL) or URL. Under Python 2, the [native capabilities were restricted to a variety of low-level functions](https://python.readthedocs.io/en/v2.7.2/library/urlparse.html) for parsing (or _splitting_, depending on use case) URL as strings into tuples, and re-forming URL from those tuples. Though Python 3 isolated this functionality and refined it—now using `namedtuple`—the results remain immutable and cumbersome to utilize bidirectionally.\n",
    "\n",
    "Python 3 introduced great convienence and _syntactic_ improvement elsewhere by way of [`pathlib`](https://docs.python.org/3/library/pathlib.html) `Path` manipulation and combination semantics. The `URI` class piggybacks on and utilizes these improvements internally, and supports many of the same interactions as `Path` does, utilizing `PurePosixPath` under-the-hood to represent the path portion of the URI."
   ]
  },
  {
   "cell_type": "code",
   "execution_count": 17,
   "id": "ce7d229e-d43d-49ec-a587-3e25d097913a",
   "metadata": {
    "collapsed": true,
    "jupyter": {
     "outputs_hidden": true,
     "source_hidden": true
    },
    "tags": []
   },
   "outputs": [
    {
     "name": "stdout",
     "output_type": "stream",
     "text": [
      "Requirement already satisfied: setuptools in /usr/local/Cellar/ipython/8.4.0/libexec/lib/python3.10/site-packages (65.3.0)\n",
      "Requirement already satisfied: pip in /usr/local/Cellar/ipython/8.4.0/libexec/lib/python3.10/site-packages (22.2.2)\n",
      "Processing /Volumes/Marrow/uri\n",
      "  Preparing metadata (setup.py) ... \u001b[?25ldone\n",
      "\u001b[?25hBuilding wheels for collected packages: uri\n",
      "  Building wheel for uri (setup.py) ... \u001b[?25ldone\n",
      "\u001b[?25h  Created wheel for uri: filename=uri-3.0.0-py3-none-any.whl size=47751 sha256=4ed8233435ed76569f584195f45ae4f4e0f483bdeb5308ca2d7c4b91c780bb52\n",
      "  Stored in directory: /private/var/folders/_6/sqb7bqtx2wj3czqztlt4mlq80000gp/T/pip-ephem-wheel-cache-1pifv_sg/wheels/ef/fd/0b/ee116ecce16071799b83abbb20e62a5a61038b7c3a99353fea\n",
      "Successfully built uri\n",
      "Installing collected packages: uri\n",
      "  Attempting uninstall: uri\n",
      "    Found existing installation: uri 3.0.0\n",
      "    Uninstalling uri-3.0.0:\n",
      "      Successfully uninstalled uri-3.0.0\n",
      "Successfully installed uri-3.0.0\n"
     ]
    }
   ],
   "source": [
    "%%capture --no-stderr --no-stdout\n",
    "\n",
    "\"\"\"First, we install the `uri` package.\"\"\"\n",
    "\n",
    "import sys\n",
    "\n",
    "!{sys.executable} -m pip install -U setuptools pip\n",
    "!{sys.executable} -m pip install /Volumes/Marrow/uri"
   ]
  },
  {
   "cell_type": "markdown",
   "id": "4439b743-1a10-412a-bf43-8eaeea3ced1d",
   "metadata": {},
   "source": [
    "With installation out of the way, we can construct our endpoint reference."
   ]
  },
  {
   "cell_type": "code",
   "execution_count": 8,
   "id": "0c1869f9-c4f9-4a9d-8e42-232461885cd5",
   "metadata": {},
   "outputs": [
    {
     "data": {
      "text/plain": [
       "URI('https://httpbin.org/json')"
      ]
     },
     "execution_count": 8,
     "metadata": {},
     "output_type": "execute_result"
    }
   ],
   "source": [
    "from uri import URI\n",
    "\n",
    "base = URI('https://httpbin.org/')\n",
    "endpoint = base / 'json'\n",
    "\n",
    "endpoint"
   ]
  },
  {
   "cell_type": "markdown",
   "id": "d58e029b-042b-4ca9-9476-f04db1b2957d",
   "metadata": {},
   "source": [
    "We can then utilize it to request this resource."
   ]
  },
  {
   "cell_type": "code",
   "execution_count": 13,
   "id": "9dba7030-adc9-4cc6-88a1-9aeb03cae182",
   "metadata": {},
   "outputs": [
    {
     "data": {
      "text/plain": [
       "{'author': 'Yours Truly',\n",
       " 'date': 'date of publication',\n",
       " 'slides': [{'title': 'Wake up to WonderWidgets!', 'type': 'all'},\n",
       "  {'items': ['Why <em>WonderWidgets</em> are great',\n",
       "    'Who <em>buys</em> WonderWidgets'],\n",
       "   'title': 'Overview',\n",
       "   'type': 'all'}],\n",
       " 'title': 'Sample Slide Show'}"
      ]
     },
     "execution_count": 13,
     "metadata": {},
     "output_type": "execute_result"
    }
   ],
   "source": [
    "from urllib.request import urlopen\n",
    "from json import loads\n",
    "\n",
    "with urlopen(str(endpoint), None, 10) as fh:\n",
    "    slideshow = loads(fh.read().decode('utf-8'))['slideshow']\n",
    "\n",
    "slideshow"
   ]
  },
  {
   "cell_type": "code",
   "execution_count": 15,
   "id": "82c51fc9-c027-42dc-917b-ebc5344ec541",
   "metadata": {},
   "outputs": [
    {
     "data": {
      "text/plain": [
       "URI('https://httpbin.org/get?author=Yours+Truly')"
      ]
     },
     "execution_count": 15,
     "metadata": {},
     "output_type": "execute_result"
    }
   ],
   "source": [
    "endpoint = base / 'get'\n",
    "\n",
    "data = {'author': slideshow['author']}\n",
    "endpoint.query.update(data)\n",
    "\n",
    "endpoint"
   ]
  },
  {
   "cell_type": "code",
   "execution_count": 18,
   "id": "36ace69e-6b25-409d-a96e-622bc4d816a3",
   "metadata": {},
   "outputs": [
    {
     "data": {
      "text/plain": [
       "QSO(\"author=Yours+Truly&year=2022\")"
      ]
     },
     "execution_count": 18,
     "metadata": {},
     "output_type": "execute_result"
    }
   ],
   "source": [
    "endpoint.query.update([('year', '2020'), ('year', '2021'), ('year', '2022')])\n",
    "endpoint.query"
   ]
  }
 ],
 "metadata": {
  "kernelspec": {
   "display_name": "Python 3 (ipykernel)",
   "language": "python",
   "name": "python3"
  },
  "language_info": {
   "codemirror_mode": {
    "name": "ipython",
    "version": 3
   },
   "file_extension": ".py",
   "mimetype": "text/x-python",
   "name": "python",
   "nbconvert_exporter": "python",
   "pygments_lexer": "ipython3",
   "version": "3.10.6"
  }
 },
 "nbformat": 4,
 "nbformat_minor": 5
}
