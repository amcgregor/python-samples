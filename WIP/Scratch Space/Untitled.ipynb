{
 "cells": [
  {
   "cell_type": "markdown",
   "id": "44a2b53c",
   "metadata": {},
   "source": [
    "# Determination of Translatable Strings\n"
   ]
  },
  {
   "cell_type": "code",
   "execution_count": null,
   "id": "f29fc942",
   "metadata": {},
   "outputs": [],
   "source": [
    "\n",
    "\n",
    "# Base Mocks\n",
    "\n",
    "class Document:\n",
    "    pass\n",
    "\n",
    "class Field:\n",
    "    def __init__(self, choices):\n",
    "        self.choices = choices"
   ]
  },
  {
   "cell_type": "code",
   "execution_count": null,
   "id": "b85b0b73",
   "metadata": {},
   "outputs": [],
   "source": [
    "class "
   ]
  }
 ],
 "metadata": {
  "kernelspec": {
   "display_name": "Python 3 (ipykernel)",
   "language": "python",
   "name": "python3"
  },
  "language_info": {
   "codemirror_mode": {
    "name": "ipython",
    "version": 3
   },
   "file_extension": ".py",
   "mimetype": "text/x-python",
   "name": "python",
   "nbconvert_exporter": "python",
   "pygments_lexer": "ipython3",
   "version": "3.9.7"
  }
 },
 "nbformat": 4,
 "nbformat_minor": 5
}
