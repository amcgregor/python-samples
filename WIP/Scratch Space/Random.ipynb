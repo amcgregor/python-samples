{
 "cells": [
  {
   "cell_type": "markdown",
   "id": "d1dcdb5a",
   "metadata": {},
   "source": [
    "# URL Safe Replacement"
   ]
  },
  {
   "cell_type": "code",
   "execution_count": 14,
   "id": "9ef24ea8",
   "metadata": {},
   "outputs": [],
   "source": [
    "from re import compile as re\n",
    "\n",
    "\n",
    "def urlsafe(text):\n",
    "\treturn urlsafe.regex.sub('_', text)\n",
    "\n",
    "urlsafe.regex = re('[^\\w_-]+')"
   ]
  },
  {
   "cell_type": "code",
   "execution_count": 15,
   "id": "c6f8ff80",
   "metadata": {},
   "outputs": [
    {
     "data": {
      "text/plain": [
       "'hello_world'"
      ]
     },
     "execution_count": 15,
     "metadata": {},
     "output_type": "execute_result"
    }
   ],
   "source": [
    "urlsafe(\"hello world\")"
   ]
  },
  {
   "cell_type": "code",
   "execution_count": 17,
   "id": "c1fba99c",
   "metadata": {},
   "outputs": [
    {
     "data": {
      "text/plain": [
       "'XYZ_10_20_2021'"
      ]
     },
     "execution_count": 17,
     "metadata": {},
     "output_type": "execute_result"
    }
   ],
   "source": [
    "urlsafe(\"XYZ 10/20/2021\")"
   ]
  },
  {
   "cell_type": "code",
   "execution_count": 18,
   "id": "14f4fdf8",
   "metadata": {},
   "outputs": [
    {
     "data": {
      "text/plain": [
       "'this-is-a-test'"
      ]
     },
     "execution_count": 18,
     "metadata": {},
     "output_type": "execute_result"
    }
   ],
   "source": [
    "urlsafe(\"this-is-a-test\")"
   ]
  }
 ],
 "metadata": {
  "kernelspec": {
   "display_name": "Python 3 (ipykernel)",
   "language": "python",
   "name": "python3"
  },
  "language_info": {
   "codemirror_mode": {
    "name": "ipython",
    "version": 3
   },
   "file_extension": ".py",
   "mimetype": "text/x-python",
   "name": "python",
   "nbconvert_exporter": "python",
   "pygments_lexer": "ipython3",
   "version": "3.9.6"
  }
 },
 "nbformat": 4,
 "nbformat_minor": 5
}
