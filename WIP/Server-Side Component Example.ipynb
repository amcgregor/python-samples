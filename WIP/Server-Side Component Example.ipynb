{
 "cells": [
  {
   "cell_type": "code",
   "execution_count": 37,
   "id": "9b6df171",
   "metadata": {
    "collapsed": true
   },
   "outputs": [
    {
     "name": "stdout",
     "output_type": "stream",
     "text": [
      "Requirement already satisfied: setuptools in /usr/local/Cellar/jupyterlab/3.1.4/libexec/lib/python3.9/site-packages (57.4.0)\n",
      "Requirement already satisfied: pip in /usr/local/Cellar/jupyterlab/3.1.4/libexec/lib/python3.9/site-packages (21.2.4)\n",
      "Requirement already satisfied: marrow.mongo in /usr/local/Cellar/jupyterlab/3.1.4/libexec/lib/python3.9/site-packages (1.1.2)\n",
      "Requirement already satisfied: markupsafe in /usr/local/Cellar/jupyterlab/3.1.4/libexec/lib/python3.9/site-packages (2.0.1)\n",
      "Requirement already satisfied: pymongo>=3.2 in /usr/local/Cellar/jupyterlab/3.1.4/libexec/lib/python3.9/site-packages (from marrow.mongo) (3.12.0)\n",
      "Requirement already satisfied: uri<3.0.0,>=2.0.0 in /usr/local/Cellar/jupyterlab/3.1.4/libexec/lib/python3.9/site-packages (from marrow.mongo) (2.0.1)\n",
      "Requirement already satisfied: marrow.schema<2.0.0,>=1.2.0 in /usr/local/Cellar/jupyterlab/3.1.4/libexec/lib/python3.9/site-packages (from marrow.mongo) (1.2.0)\n",
      "Requirement already satisfied: marrow.package<2.0.0,>=1.1.0 in /usr/local/Cellar/jupyterlab/3.1.4/libexec/lib/python3.9/site-packages (from marrow.mongo) (1.2.0)\n"
     ]
    }
   ],
   "source": [
    "# Update and install required packages for this demonstration.\n",
    "!{__import__('sys').executable} -m pip install -U setuptools pip marrow.mongo markupsafe"
   ]
  },
  {
   "cell_type": "code",
   "execution_count": 50,
   "id": "200c214e",
   "metadata": {},
   "outputs": [],
   "source": [
    "from functools import partial\n",
    "\n",
    "\n",
    "class classinstancemethod:\n",
    "\t\"\"\"A decorator to allow protocol methods to behave as class and instance methods.\"\"\"\n",
    "\t\n",
    "\tdef __init__(self, fn):\n",
    "\t\tself.fn = staticmethod(fn)\n",
    "\t\tprint(fn, self.fn)\n",
    "\t\n",
    "\tdef __get__(self, obj, cls=None):\n",
    "\t\t# There's probably a way, way, way better way of doing this!\n",
    "\t\tprint(obj, cls, self.fn)\n",
    "\t\treturn partial(self.fn, cls if obj is None else obj)\n",
    "\t\n",
    "\tdef __set__(self, obj, value):\n",
    "\t\traise TypeError(\"Dual class/instance methods can not be written to.\")\n",
    "\n",
    "\n",
    "class Depend:\n",
    "\tNS = 'org.python.setuptools.entry_point'\n",
    "\tPLUGIN = 'org.marrow.package.load'\n",
    "\tASSET = 'web.component.asset'\n",
    "\tBUNDLE = 'web.asset.bundle'\n",
    "\tSTYLE = 'web.asset.selector'\n",
    "\tEVENT = 'web.asset.event'\n",
    "\t\n",
    "\tALL = (NS, PLUGIN, ASSET, BUNDLE, STYLE, EVENT)\n",
    "\t\n",
    "\t@classmethod\n",
    "\tdef collect(cls, obj, *only):\n",
    "\t\tif not only:\n",
    "\t\t\tonly = cls.ALL\n",
    "\t\t\n",
    "\t\tyield from obj.__depend__(obj, only)\n",
    "\t\n",
    "\t@classmethod\n",
    "\tdef declare(cls, fn):\n",
    "\t\treturn classinstancemethod(fn)"
   ]
  },
  {
   "cell_type": "code",
   "execution_count": 51,
   "id": "1234cf0e",
   "metadata": {},
   "outputs": [
    {
     "name": "stdout",
     "output_type": "stream",
     "text": [
      "<function Address.__depend__ at 0x10262e280> <staticmethod object at 0x10ac91850>\n"
     ]
    }
   ],
   "source": [
    "from marrow.mongo import Document, utcnow\n",
    "from marrow.mongo.field import Date, Link\n",
    "\n",
    "\n",
    "class Address(Document):\n",
    "\t\"\"\"An embedded document representing a verified e-mail address.\n",
    "\t\n",
    "\tIntended for use in an Array() embedding these sub-documents.\n",
    "\t\"\"\"\n",
    "\t\n",
    "\t__pk__ = 'address'\n",
    "\t__vary__ = ('address', 'verified')  # The attributes to fetch for cache key generation.\n",
    "\t\n",
    "\taddress = Link(required=True, protocols={'mailto'})  # The e-mail address itself.\n",
    "\tadded = Date(default=utcnow, write=False)  # When was this address added?\n",
    "\tverified = Date(default=None, write=False)  # Has the user verified the address, and if so, when?\n",
    "\t\n",
    "\t@Depend.declare  # self may actually be the class, not an instance!\n",
    "\tdef __depend__(self, only=Depend.ALL):\n",
    "\t\t\"\"\"Declare bundle, themeing, and interaction points for this widget.\"\"\"\n",
    "\t\t\n",
    "\t\tif Depend.STYLE in only:\n",
    "\t\t\t# Hard theme selectors; this is always present.\n",
    "\t\t\tyield Depend.STYLE, '.email'\n",
    "\t\t\t\n",
    "\t\t\t# Conditional theme selectors; announce all anyway, but hint.\n",
    "\t\t\tif issubclass(self, Address):  # Class-level identification.\n",
    "\t\t\t\tyield Depend.STYLE, '.verified'\n",
    "\t\t\t\tyield Depend.STYLE, '.unverified'\n",
    "\t\t\telse:  # Conditional actual use when querying an instance specifically.\n",
    "\t\t\t\tyield Depend.STYLE, '.verified', bool(self.verified)\n",
    "\t\t\t\tyield Depend.STYLE, '.unverified', not self.verified\n",
    "\t\t\n",
    "\t\tif Depend.EVENT in only:\n",
    "\t\t\t# Client- and server-side events that may fire.\n",
    "\t\t\tyield Depend.EVENT, 'com.illico.common.email.verified'\n",
    "\t\n",
    "\tdef __str__(self):\n",
    "\t\t\"\"\"Return a plain text representation of this location; just the name, if present.\"\"\"\n",
    "\t\t\n",
    "\t\treturn self.address.path.name\n",
    "\t\n",
    "\tdef __html__(self):\n",
    "\t\t\"\"\"Return a microdata-compliant e-mail link.\n",
    "\t\t\n",
    "\t\tIf the e-mail address is fully-formed with a name component, the name will be used for presentation.\n",
    "\t\t\"\"\"\n",
    "\t\t\n",
    "\t\treturn f'<a href=\"{self.address}\" class=\"email {\"\" if self.verified else \"un\"}verified\">{self}</a>'\n",
    "\t\n",
    "\tdef __link__(self):\n",
    "\t\t\"\"\"Return a valid URI representitive of this widget.\"\"\"\n",
    "\t\t\n",
    "\t\treturn self.address"
   ]
  },
  {
   "cell_type": "code",
   "execution_count": 40,
   "id": "38e8e7f7",
   "metadata": {},
   "outputs": [
    {
     "data": {
      "text/plain": [
       "Address(URI('mailto:alice@gothcandy.com'), added=datetime.datetime(2021, 8, 19, 2, 41, 41, tzinfo=<UTC>))"
      ]
     },
     "execution_count": 40,
     "metadata": {},
     "output_type": "execute_result"
    }
   ],
   "source": [
    "# Quick demo.\n",
    "\n",
    "me = Address('mailto:alice@gothcandy.com'); me"
   ]
  },
  {
   "cell_type": "code",
   "execution_count": 41,
   "id": "9d66de10",
   "metadata": {},
   "outputs": [
    {
     "data": {
      "text/plain": [
       "'alice@gothcandy.com'"
      ]
     },
     "execution_count": 41,
     "metadata": {},
     "output_type": "execute_result"
    }
   ],
   "source": [
    "str(me)"
   ]
  },
  {
   "cell_type": "code",
   "execution_count": 42,
   "id": "38a62ceb",
   "metadata": {},
   "outputs": [
    {
     "data": {
      "text/plain": [
       "'<a href=\"mailto:alice@gothcandy.com\" class=\"email unverified\">alice@gothcandy.com</a>'"
      ]
     },
     "execution_count": 42,
     "metadata": {},
     "output_type": "execute_result"
    }
   ],
   "source": [
    "from markupsafe import Markup\n",
    "\n",
    "str(Markup(me))"
   ]
  },
  {
   "cell_type": "code",
   "execution_count": 44,
   "id": "c40952cf",
   "metadata": {},
   "outputs": [
    {
     "ename": "TypeError",
     "evalue": "the first argument must be callable",
     "output_type": "error",
     "traceback": [
      "\u001b[0;31m---------------------------------------------------------------------------\u001b[0m",
      "\u001b[0;31mTypeError\u001b[0m                                 Traceback (most recent call last)",
      "\u001b[0;32m/var/folders/dt/588b8tjd4cx26gn5q26cb0gw0000gn/T/ipykernel_58324/447435383.py\u001b[0m in \u001b[0;36m<module>\u001b[0;34m\u001b[0m\n\u001b[0;32m----> 1\u001b[0;31m \u001b[0mlist\u001b[0m\u001b[0;34m(\u001b[0m\u001b[0mme\u001b[0m\u001b[0;34m.\u001b[0m\u001b[0m__depend__\u001b[0m\u001b[0;34m(\u001b[0m\u001b[0;34m)\u001b[0m\u001b[0;34m)\u001b[0m\u001b[0;34m\u001b[0m\u001b[0;34m\u001b[0m\u001b[0m\n\u001b[0m",
      "\u001b[0;32m/var/folders/dt/588b8tjd4cx26gn5q26cb0gw0000gn/T/ipykernel_58324/2805378365.py\u001b[0m in \u001b[0;36m__get__\u001b[0;34m(self, obj, cls)\u001b[0m\n\u001b[1;32m     10\u001b[0m         \u001b[0;32mdef\u001b[0m \u001b[0m__get__\u001b[0m\u001b[0;34m(\u001b[0m\u001b[0mself\u001b[0m\u001b[0;34m,\u001b[0m \u001b[0mobj\u001b[0m\u001b[0;34m,\u001b[0m \u001b[0mcls\u001b[0m\u001b[0;34m=\u001b[0m\u001b[0;32mNone\u001b[0m\u001b[0;34m)\u001b[0m\u001b[0;34m:\u001b[0m\u001b[0;34m\u001b[0m\u001b[0;34m\u001b[0m\u001b[0m\n\u001b[1;32m     11\u001b[0m                 \u001b[0;31m# There's probably a way, way, way better way of doing this!\u001b[0m\u001b[0;34m\u001b[0m\u001b[0;34m\u001b[0m\u001b[0;34m\u001b[0m\u001b[0m\n\u001b[0;32m---> 12\u001b[0;31m                 \u001b[0;32mreturn\u001b[0m \u001b[0mpartial\u001b[0m\u001b[0;34m(\u001b[0m\u001b[0mself\u001b[0m\u001b[0;34m.\u001b[0m\u001b[0mfn\u001b[0m\u001b[0;34m,\u001b[0m \u001b[0mcls\u001b[0m \u001b[0;32mif\u001b[0m \u001b[0mobj\u001b[0m \u001b[0;32mis\u001b[0m \u001b[0;32mNone\u001b[0m \u001b[0;32melse\u001b[0m \u001b[0mobj\u001b[0m\u001b[0;34m)\u001b[0m\u001b[0;34m\u001b[0m\u001b[0;34m\u001b[0m\u001b[0m\n\u001b[0m\u001b[1;32m     13\u001b[0m \u001b[0;34m\u001b[0m\u001b[0m\n\u001b[1;32m     14\u001b[0m         \u001b[0;32mdef\u001b[0m \u001b[0m__set__\u001b[0m\u001b[0;34m(\u001b[0m\u001b[0mself\u001b[0m\u001b[0;34m,\u001b[0m \u001b[0mobj\u001b[0m\u001b[0;34m,\u001b[0m \u001b[0mvalue\u001b[0m\u001b[0;34m)\u001b[0m\u001b[0;34m:\u001b[0m\u001b[0;34m\u001b[0m\u001b[0;34m\u001b[0m\u001b[0m\n",
      "\u001b[0;31mTypeError\u001b[0m: the first argument must be callable"
     ]
    }
   ],
   "source": [
    "list(me.__depend__())"
   ]
  }
 ],
 "metadata": {
  "kernelspec": {
   "display_name": "Python 3 (ipykernel)",
   "language": "python",
   "name": "python3"
  },
  "language_info": {
   "codemirror_mode": {
    "name": "ipython",
    "version": 3
   },
   "file_extension": ".py",
   "mimetype": "text/x-python",
   "name": "python",
   "nbconvert_exporter": "python",
   "pygments_lexer": "ipython3",
   "version": "3.9.6"
  }
 },
 "nbformat": 4,
 "nbformat_minor": 5
}
