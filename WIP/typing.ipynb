{
 "cells": [
  {
   "cell_type": "code",
   "execution_count": 5,
   "id": "6142e323",
   "metadata": {},
   "outputs": [
    {
     "data": {
      "text/plain": [
       "['ABCMeta', 'AbstractSet', 'Annotated', 'Any', 'AnyStr', 'AsyncContextManager', 'AsyncGenerator', 'AsyncIterable', 'AsyncIterator', 'Awaitable', 'BinaryIO', 'ByteString', 'CT_co', 'Callable', 'ChainMap', 'ClassVar', 'Collection', 'Container', 'ContextManager', 'Coroutine', 'Counter', 'DefaultDict', 'Deque', 'Dict', 'EXCLUDED_ATTRIBUTES', 'Final', 'ForwardRef', 'FrozenSet', 'Generator', 'Generic', 'GenericAlias', 'Hashable', 'IO', 'ItemsView', 'Iterable', 'Iterator', 'KT', 'KeysView', 'List', 'Literal', 'Mapping', 'MappingView', 'Match', 'MethodDescriptorType', 'MethodWrapperType', 'MutableMapping', 'MutableSequence', 'MutableSet', 'NamedTuple', 'NamedTupleMeta', 'NewType', 'NoReturn', 'Optional', 'OrderedDict', 'Pattern', 'Protocol', 'Reversible', 'Sequence', 'Set', 'Sized', 'SupportsAbs', 'SupportsBytes', 'SupportsComplex', 'SupportsFloat', 'SupportsIndex', 'SupportsInt', 'SupportsRound', 'T', 'TYPE_CHECKING', 'T_co', 'T_contra', 'Text', 'TextIO', 'Tuple', 'Type', 'TypeVar', 'TypedDict', 'Union', 'VT', 'VT_co', 'V_co', 'ValuesView', 'WrapperDescriptorType', '_AnnotatedAlias', '_BaseGenericAlias', '_CallableGenericAlias', '_CallableType', '_Final', '_GenericAlias', '_Immutable', '_LiteralGenericAlias', '_LiteralSpecialForm', '_NamedTuple', '_PROTO_WHITELIST', '_ProtocolMeta', '_SPECIAL_NAMES', '_SpecialForm', '_SpecialGenericAlias', '_TYPING_INTERNALS', '_TupleType', '_TypedDict', '_TypedDictMeta', '_TypingEllipsis', '_TypingEmpty', '_UnionGenericAlias', '__all__', '__builtins__', '__cached__', '__doc__', '__file__', '__loader__', '__name__', '__package__', '__spec__', '_alias', '_allow_reckless_class_cheks', '_allowed_types', '_check_generic', '_cleanups', '_collect_type_vars', '_deduplicate', '_eval_type', '_flatten_literal_params', '_get_defaults', '_get_protocol_attrs', '_is_callable_members_only', '_is_dunder', '_make_nmtuple', '_namedtuple_mro_entries', '_no_init', '_overload_dummy', '_prohibited', '_remove_dups_flatten', '_special', '_strip_annotations', '_tp_cache', '_type_check', '_type_convert', '_type_repr', '_value_and_type_iter', 'abstractmethod', 'cast', 'collections', 'contextlib', 'final', 'functools', 'get_args', 'get_origin', 'get_type_hints', 'io', 'no_type_check', 'no_type_check_decorator', 'operator', 'overload', 're', 'runtime_checkable', 'stdlib_re', 'sys', 'types']"
      ]
     },
     "execution_count": 5,
     "metadata": {},
     "output_type": "execute_result"
    }
   ],
   "source": [
    "import typing\n",
    "import types\n",
    "\n",
    "dir(typing)"
   ]
  },
  {
   "cell_type": "code",
   "execution_count": null,
   "id": "a63676c2",
   "metadata": {},
   "outputs": [],
   "source": [
    "# Meta\n",
    "from typing import Any  # <any value>\n",
    "from typing import Final  # [unwrap]\n",
    "from typing import Literal  # [unwrap]\n",
    "from typing import Optional  # <may be None>\n",
    "from typing import Union  # [try one possibility after another]\n",
    "\n",
    "# Concrete Types\n",
    "from typing import AbstractSet  # -> set\n",
    "from typing import AnyStr  # -> str\n",
    "from typing import ByteString  # -> bytes\n",
    "from typing import Pattern  # -> re.compile\n",
    "from typing import Set  # -> set\n",
    "from typing import Text  # -> str, or bytes\n",
    "from typing import Tuple  # -> tuple\n",
    "\n",
    "# Concrete Container Types\n",
    "from typing import DefaultDict  # -> DefaultDict\n",
    "from typing import Deque  # -> deque\n",
    "from typing import Dict  # -> dict\n",
    "from typing import FrozenSet  # -> frozenset\n",
    "from typing import List  # -> list\n",
    "from typing import MutableSet  # -> set\n",
    "\n",
    "# Abstract Container Types\n",
    "from typing import Collection  # -> \n",
    "from typing import Iterable, Iterator\n",
    "from typing import Mapping  # -> dict\n",
    "from typing import MutableMapping  # -> dict\n",
    "from typing import MutableSequence  # -> \n",
    "from typing import Sequence  # -> "
   ]
  }
 ],
 "metadata": {
  "kernelspec": {
   "display_name": "Python 3",
   "language": "python",
   "name": "python3"
  },
  "language_info": {
   "codemirror_mode": {
    "name": "ipython",
    "version": 3
   },
   "file_extension": ".py",
   "mimetype": "text/x-python",
   "name": "python",
   "nbconvert_exporter": "python",
   "pygments_lexer": "ipython3",
   "version": "3.9.4"
  }
 },
 "nbformat": 4,
 "nbformat_minor": 5
}
