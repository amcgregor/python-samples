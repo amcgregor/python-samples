{
 "cells": [
  {
   "cell_type": "code",
   "execution_count": 8,
   "id": "67d76bee",
   "metadata": {},
   "outputs": [],
   "source": [
    "from contextlib import contextmanager\n",
    "from collections import Counter\n",
    "from threading import local"
   ]
  },
  {
   "cell_type": "code",
   "execution_count": 24,
   "id": "241f0140",
   "metadata": {},
   "outputs": [],
   "source": [
    "_local = local()  # This will contain our local variables, notably, our transaction pool."
   ]
  },
  {
   "cell_type": "code",
   "execution_count": 25,
   "id": "19fb3194",
   "metadata": {},
   "outputs": [],
   "source": [
    "class Transaction:\n",
    "    def __init__(self): ...\n",
    "    \n",
    "    "
   ]
  },
  {
   "cell_type": "code",
   "execution_count": 32,
   "id": "4f947497",
   "metadata": {},
   "outputs": [],
   "source": [
    "#@contextmanager\n",
    "def transaction(new=False):\n",
    "    try:\n",
    "        stack = _local.transactions\n",
    "    except AttributeError:\n",
    "        stack = _local.transactions = []\n",
    "    \n",
    "    if not stack or new:\n",
    "        stack.append(txn := Transaction())\n",
    "    else:\n",
    "        txn = stack[-1]\n",
    "    \n",
    "    # with txn:\n",
    "    # yield txn\n",
    "    \n",
    "    return txn"
   ]
  },
  {
   "cell_type": "code",
   "execution_count": 36,
   "id": "6b5a8e99",
   "metadata": {},
   "outputs": [
    {
     "data": {
      "text/plain": [
       "<__main__.Transaction at 0x107bed8b0>"
      ]
     },
     "execution_count": 36,
     "metadata": {},
     "output_type": "execute_result"
    }
   ],
   "source": [
    "transaction()"
   ]
  },
  {
   "cell_type": "code",
   "execution_count": 37,
   "id": "fd3e976a",
   "metadata": {},
   "outputs": [
    {
     "data": {
      "text/plain": [
       "[<__main__.Transaction at 0x107bed8b0>]"
      ]
     },
     "execution_count": 37,
     "metadata": {},
     "output_type": "execute_result"
    }
   ],
   "source": [
    "_local.transactions"
   ]
  }
 ],
 "metadata": {
  "kernelspec": {
   "display_name": "Python 3",
   "language": "python",
   "name": "python3"
  },
  "language_info": {
   "codemirror_mode": {
    "name": "ipython",
    "version": 3
   },
   "file_extension": ".py",
   "mimetype": "text/x-python",
   "name": "python",
   "nbconvert_exporter": "python",
   "pygments_lexer": "ipython3",
   "version": "3.9.4"
  }
 },
 "nbformat": 4,
 "nbformat_minor": 5
}
