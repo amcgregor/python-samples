{
 "cells": [
  {
   "cell_type": "markdown",
   "id": "7eff328b",
   "metadata": {},
   "source": [
    "# Alternate Class Instantiation\n",
    "\n",
    "Python 3 has added type annotations / hinting to the standard library and core language syntax. The implementation of this extended `__getitem__` to [the class level](), exposing an interesting mechanism to _spawn variants_. Having written \"alternate universe\" tempate engines which \"abuse\" Python language semantics, including `__getitem__`, to perform work they were never intended to… I see an opportunity.\n",
    "\n",
    "In [Marrow Tags](https://github.com/marrow/tags#readme) dict-like dereferencing is used to denote child object containment, not member retrieval. For example, a simple \"template\":\n",
    "\n",
    "```python\n",
    "html [\n",
    "        head [ title [ \"Welcome!\", \" — \", SITE_NAME ] ],\n",
    "        flush,\n",
    "        body ( class_ = 'nav-welcome' ) [\n",
    "                site_header(),\n",
    "                p [ \"Lorem ipsum dolor sit amet…\" ],\n",
    "                site_footer()\n",
    "            ]\n",
    "    ]\n",
    "```\n",
    "\n",
    "This somewhat demonstrates that Python is not, in fact, a \"whitespace sensitive\" language. Indentation within a derefernece (or any structural literal) is ignored. However, this poses a problem. Where is `html`, or `head`, or `title` coming from? Can their behaviors be customized or adapted?\n",
    "\n",
    "Marrow Tags populates a default set from the HTML specification of the time but _custom tags_ are becoming a more popular feature to utilize. The web has come a long way, and there are [clearly documented API specifications available](https://developer.mozilla.org/en-US/docs/Web/API/Element) outlining how to manipulate, query, and interrogate these types of objects. Some tags may desire additional functionality: a `<head>` element, for example, need not be emitted if the first child is a `<title>`. Similar with the `<body>` element if the first child is a content element, or `<html>` itself if no attributes are present. [Really!](https://gist.github.com/amcgregor/71c62ea2984839a9063232ed2c0adf27)\n",
    "\n",
    "As there are several components to this problem and its solution, we'll start by defining a basic \"HTML tag\" representation which will largely follow the [published specification](https://dom.spec.whatwg.org/#interface-element) on attribute naming and represent our overall data model."
   ]
  },
  {
   "cell_type": "markdown",
   "id": "af7a3157",
   "metadata": {},
   "source": [
    "## Basic Tag\n",
    "\n",
    "The initial collection of imports provide the primitives used to form [type annotations]() and [type hinting]() which can be optionally enforced statically using tools like [mypy](), but also at runtime using libraries such as [typeguard]().\n",
    "\n",
    "We also define one utility function, useful later."
   ]
  },
  {
   "cell_type": "code",
   "execution_count": 1,
   "id": "d59eaeb0",
   "metadata": {},
   "outputs": [],
   "source": [
    "from collections.abc import Collection\n",
    "from textwrap import indent\n",
    "from typing import Any, Dict, Iterable, List, Optional, Set, Type, TypeVar, Union\n",
    "from re import compile as re\n",
    "\n",
    "camel = lambda s: (m.group(0).lower() for m in camel.pattern.finditer(s))\n",
    "camel.pattern = re('.+?(?:(?<=[a-z])(?=[A-Z])|(?<=[A-Z])(?=[A-Z][a-z])|$)')"
   ]
  },
  {
   "cell_type": "code",
   "execution_count": 2,
   "id": "322f6fec",
   "metadata": {},
   "outputs": [
    {
     "data": {
      "text/plain": [
       "'my-awesome-tag'"
      ]
     },
     "execution_count": 2,
     "metadata": {},
     "output_type": "execute_result"
    }
   ],
   "source": [
    "'-'.join(camel('myAwesomeTag'))"
   ]
  },
  {
   "cell_type": "markdown",
   "id": "b234605a",
   "metadata": {},
   "source": [
    "With the basics needed for self-documentation out of the way, we'll form the basic definition of a Tag. We won't worry about specialized behavior using this new functionality yet."
   ]
  },
  {
   "cell_type": "code",
   "execution_count": 3,
   "id": "e8788f6d",
   "metadata": {},
   "outputs": [],
   "source": [
    "from xml.sax.saxutils import quoteattr  # Used when rendering element attributes.\n",
    "\n",
    "class T:\n",
    "    children: List\n",
    "    classList: Set[str]\n",
    "    localName: str\n",
    "    attributes: dict\n",
    "    \n",
    "    def __init__(self, name:str, children:Optional[List]=None, **kw) -> None:\n",
    "        self.children = children or []  # Populate empty defaults.\n",
    "        self.classList = set()\n",
    "        self.attributes = {'class': 'classList'}\n",
    "        \n",
    "        self.localName = name\n",
    "        \n",
    "        for name, value in kw.items():\n",
    "            setattr(self, name, value)\n",
    "    \n",
    "    def __repr__(self) -> str:\n",
    "        return f\"<tag '{self.localName}' children={len(self)}{' ' if self.attributes else ''}{self.attributeMapping}>\"\n",
    "    \n",
    "    def __len__(self):\n",
    "        \"\"\"Our length is that of the number of our child elements.\"\"\"\n",
    "        return len(self.children)\n",
    "    \n",
    "    def __iter__(self):\n",
    "        \"\"\"Act as if we are our collection of children when iterated.\"\"\"\n",
    "        return iter(self.children)\n",
    "    \n",
    "    def __str__(self) -> str:\n",
    "        parts = []  # These are the string fragments that will ultimately be returned as one.\n",
    "        \n",
    "        parts.extend(('<', self.localName))\n",
    "        \n",
    "        for key, value in sorted(self.attributeMapping.items()):\n",
    "            if key[0] == '_': continue  # Armour against protected attribute access.\n",
    "            \n",
    "            # Skip values that are non-zero falsy, working around the fact that False == 0.\n",
    "            if not value and (value is False or value != 0):\n",
    "                continue\n",
    "            \n",
    "            name = str(key).rstrip('_').replace('__', ':').replace('_', '-')\n",
    "            \n",
    "            # Add spacer if needed.\n",
    "            if len(parts) == 2:\n",
    "                parts.append(' ')\n",
    "\n",
    "            if value is True:  # For explicitly True values, don't emit a value for the attribute.\n",
    "                parts.append(name)\n",
    "                continue\n",
    "\n",
    "            # Non-string iterables (such as lists, sets, tuples, etc.) are treated as space-separated strings.\n",
    "            if isinstance(value, Iterable) and not isinstance(value, str):\n",
    "                value = \" \".join(str(i) for i in value)\n",
    "            \n",
    "            value = quoteattr(str(value))\n",
    "            if \" \" not in value:\n",
    "                value = value.strip('\"')\n",
    "            \n",
    "            parts.extend((name, \"=\", value))\n",
    "\n",
    "        parts.append('>')\n",
    "        if self.children:\n",
    "            if __debug__:  # Prettier \"linted\" output when optimizations aren't enabled.\n",
    "                parts.append(\"\\n\")\n",
    "                parts.append(indent(\"\".join(str(child) for child in self), \"\\t\"))\n",
    "            else:\n",
    "                parts.extend(str(child) for child in self)\n",
    "        parts.extend(('\\n</' if __debug__ else '</', self.localName, '>\\n' if __debug__ else '>'))\n",
    "        \n",
    "        return ''.join(parts)\n",
    "        \n",
    "        # Three different possible \"null\" / \"empty\" scenarios.\n",
    "        return f'<{self.localName}></{self.localName}>' + \"\\n\" if __debug__ else \"\"  # Missing contents.\n",
    "        return f'<{self.localName} />'  # XML-like explicit NULL element.\n",
    "        return f'<{self.localName}>'  # HTML5-like self-closing tag.\n",
    "    \n",
    "    def __len__(self):\n",
    "        return len(self.children)\n",
    "    \n",
    "    @property\n",
    "    def attributeMapping(self):\n",
    "        return {k: v for k, v in {name: getattr(self, origin, None) for name, origin in self.attributes.items()}.items() if v}\n",
    "    \n",
    "    # API-conformant aliases for \"localName\".\n",
    "    tagName = \\\n",
    "    nodeName = \\\n",
    "        property(lambda self: self.localName)"
   ]
  },
  {
   "cell_type": "code",
   "execution_count": 4,
   "id": "63e03804",
   "metadata": {},
   "outputs": [
    {
     "name": "stdout",
     "output_type": "stream",
     "text": [
      "<class '__main__.T'>\n",
      "<tag 'html' children=0 {}>\t<html>\n",
      "</html>\n",
      "\n",
      "<tag 'p' children=0 {}>\t<p>\n",
      "</p>\n",
      "\n",
      "<tag 'p' children=1 {'class': {'example'}}>\n",
      "<p class=example>\n",
      "\tLorem ipsum dolor...\n",
      "</p>\n",
      "\n",
      "{'class': {'example'}}\n",
      "\n",
      "<tag 'html' children=2 {}>\n",
      "\n",
      "<html>\n",
      "\t<head>\n",
      "\t\t<title>\n",
      "\t\t\tWelcome\n",
      "\t\t</title>\n",
      "\n",
      "\t</head>\n",
      "\t<body>\n",
      "\t\t<p>\n",
      "\t\t\tLorem ipsum dolor sit amet…\n",
      "\t\t</p>\n",
      "\n",
      "\t</body>\n",
      "\n",
      "</html>\n",
      "\n"
     ]
    }
   ],
   "source": [
    "print(T)\n",
    "print(repr(T('html')), T('html'), sep=\"\\t\")\n",
    "print(repr(T('p')), T('p'), sep=\"\\t\")\n",
    "\n",
    "ex = T('p', ['Lorem ipsum dolor...'], classList={'example'})\n",
    "print(repr(ex), ex, sep=\"\\n\")\n",
    "print(ex.attributeMapping)\n",
    "\n",
    "page = T('html', [\n",
    "        T('head', [\n",
    "            T('title', [\"Welcome\"])\n",
    "        ]),\n",
    "        T('body', [\n",
    "            T('p', [\"Lorem ipsum dolor sit amet…\"])\n",
    "        ]),\n",
    "    ])\n",
    "\n",
    "print(\"\", repr(page), \"\", page, sep=\"\\n\")"
   ]
  },
  {
   "cell_type": "markdown",
   "id": "203f722c",
   "metadata": {},
   "source": [
    "It may be noticeable that there are some optimizations we can apply to the HTML generation, and by gum this is an ugly syntax to try to work with. We can improve both of these aspects. Users with a Perl background may be more comfortable with this syntax than others.\n",
    "\n",
    "We'll deal with the HTML serializaiton later.\n",
    "\n",
    "## The Tag Factory\n",
    "\n",
    "A key point to these elements is that _instantiation_ creates a new element _instance_, and that there isn't a distinct class per element. Writing your HTML this way would be highly cumbersome. Having to write out not just that it is a tag, but which one, its exact children, etc., up-front is sub-optimal. We could provide dedicated subclasses for every possible element, using the module scope to contain them, but there is a better, more dynamic way.\n",
    "\n",
    "Instances have the ability to participate in the attribute lookup protocol using `__getattr__` and `__getattribute__` methods. So too do _metaclasses_ have the ability to interpose attribute lookup on _classes_.\n",
    "\n",
    "Step one would then be to define a base metaclass that our \"magical\" classes will inherit from to provide compile–time and run–time behavior."
   ]
  },
  {
   "cell_type": "code",
   "execution_count": 5,
   "id": "d31362b5",
   "metadata": {},
   "outputs": [],
   "source": [
    "class TagMeta(type):\n",
    "    def __new__(meta, name, bases, attrs):\n",
    "        cls = type.__new__(meta, str(name), bases, attrs)\n",
    "        return cls\n",
    "    \n",
    "    def __getattr__(Tag, name:str):\n",
    "        return Tag('-'.join(camel(name)))\n",
    "\n",
    "\n",
    "class Tag(T, metaclass=TagMeta): ..."
   ]
  },
  {
   "cell_type": "code",
   "execution_count": 6,
   "id": "ae70a841",
   "metadata": {},
   "outputs": [
    {
     "name": "stdout",
     "output_type": "stream",
     "text": [
      "<class '__main__.Tag'>\n",
      "<tag 'title' children=0 {}>\n",
      "<title>\n",
      "</title>\n",
      "\n"
     ]
    }
   ],
   "source": [
    "print(repr(Tag))\n",
    "print(repr(Tag.title))\n",
    "print(Tag.title)"
   ]
  },
  {
   "cell_type": "markdown",
   "id": "c0727892",
   "metadata": {},
   "source": [
    "Congratulations, we now have the class itself as a factory for its own instances. Which sounds absolutely unimpressive, as that is the purpose of classes, however the factory is _attribute access_ (to otherwise unknown attributes) **itself**, not invocation. The name of the tag is inferred from the name of the attribute. This even supports \"custom tags\" using `camelCase` notation."
   ]
  },
  {
   "cell_type": "code",
   "execution_count": 7,
   "id": "dc3d1791",
   "metadata": {
    "scrolled": true
   },
   "outputs": [
    {
     "name": "stdout",
     "output_type": "stream",
     "text": [
      "<file-upload>\n",
      "</file-upload>\n",
      "\n"
     ]
    }
   ],
   "source": [
    "print(Tag.fileUpload)"
   ]
  },
  {
   "cell_type": "markdown",
   "id": "7fddc3bd",
   "metadata": {},
   "source": [
    "All tags are treated the same, in this rough draft. There are differences, especially in making the serializaiton attractive to humans such as the distinction between _block_ and _inline_ elements, which also offer points for minor optimization.\n",
    "\n",
    "Notice, however, that absolutely nothing is currently HTML-specific!"
   ]
  },
  {
   "cell_type": "markdown",
   "id": "52900f4f",
   "metadata": {},
   "source": [
    "## Mutation\n",
    "\n",
    "What if we now wish to provide new values for attributes? Attribute access of the class is returning an already-instantiated value, making it too late to provide values to `__init__`. Instances can be made _callable_ by defining a `__call__` method, however, mimmicing use of the instance as if it were a class. In the \"assigning children\" case, a fresh-off-the-press newly minted instance will never have children, so mutation of the existing instance and returning the same (`self`) is a highly practical solution.\n",
    "\n",
    "Note in the `__call__` case, returning what is technically a new instance, with all existing attributes transferred and optionally mutated, is preferable. This has the side-effect that one can create \"template\" objects, but it is critical to be aware that _mutable_ objects, such as lists, sets, etc., will have their contents shared amongst the derived copies; mutation of one will appear to alter them all."
   ]
  },
  {
   "cell_type": "code",
   "execution_count": 8,
   "id": "52588d9e",
   "metadata": {},
   "outputs": [],
   "source": [
    "class Tag(T, metaclass=TagMeta):\n",
    "    def __call__(self, **attributes) -> T:\n",
    "        \"\"\"Produce a new, cloned and mutated instance of this tag incorporating attribute changes.\"\"\"\n",
    "        instance = self.__class__(self.localName, self.children)  # Mutant pools children!\n",
    "        instance.__dict__ = self.__dict__.copy()  # It pools all mutable attributes!\n",
    "        \n",
    "        for name, value in attributes.items():\n",
    "            setattr(instance, name, value)\n",
    "        \n",
    "        return instance\n",
    "    \n",
    "    def __getitem__(self, children) -> T:\n",
    "        \"\"\"Mutate this instance to add these children, returning this instance for chained manipulation.\"\"\"\n",
    "        if isinstance(children, (tuple, list)):\n",
    "            self.children.extend(children)\n",
    "        else:\n",
    "            self.children.append(children)\n",
    "        \n",
    "        return self"
   ]
  },
  {
   "cell_type": "code",
   "execution_count": 9,
   "id": "37d86bde",
   "metadata": {
    "scrolled": true
   },
   "outputs": [
    {
     "name": "stdout",
     "output_type": "stream",
     "text": [
      "<p class=name>\n",
      "\tBob Dole\n",
      "</p>\n",
      "\n",
      "{'children': ['Bob Dole'], 'classList': {'name'}, 'attributes': {'class': 'classList'}, 'localName': 'p'}\n",
      "\n",
      "<p class=\"fancy wau\">\n",
      "\tMuch content, super elide.\n",
      "</p>\n",
      "\n"
     ]
    }
   ],
   "source": [
    "bdole = Tag.p(classList={'name'})[\"Bob Dole\"]\n",
    "print(bdole, bdole.__dict__, \"\", sep=\"\\n\")\n",
    "print(Tag.p(classList={'fancy', 'wau'})[\"Much content, super elide.\"])"
   ]
  },
  {
   "cell_type": "markdown",
   "id": "c0f6db40",
   "metadata": {},
   "source": [
    "You might not have noticed it earlier, but see how the `class` attribute of the first paragraph has no quotes.\n",
    "\n",
    "We can now replicate an earlier example using a much nicer syntax."
   ]
  },
  {
   "cell_type": "code",
   "execution_count": 10,
   "id": "1004a3e0",
   "metadata": {},
   "outputs": [
    {
     "name": "stdout",
     "output_type": "stream",
     "text": [
      "<tag 'html' children=2 {}>\n",
      "\n",
      "<html>\n",
      "\t<head>\n",
      "\t\t<title>\n",
      "\t\t\tWelcome\n",
      "\t\t</title>\n",
      "\n",
      "\t</head>\n",
      "\t<body>\n",
      "\t\t<p>\n",
      "\t\t\tLorem ipsum dolor sit amet…\n",
      "\t\t</p>\n",
      "\n",
      "\t</body>\n",
      "\n",
      "</html>\n",
      "\n"
     ]
    }
   ],
   "source": [
    "page = Tag.html [\n",
    "        Tag.head [\n",
    "            Tag.title [\"Welcome\"]\n",
    "        ],\n",
    "        Tag.body [\n",
    "            Tag.p [\"Lorem ipsum dolor sit amet…\"]\n",
    "        ],\n",
    "    ]\n",
    "\n",
    "print(repr(page), page, sep=\"\\n\\n\")"
   ]
  },
  {
   "cell_type": "markdown",
   "id": "6c3f1d6b",
   "metadata": {},
   "source": [
    "Returning to a point touched on earlier, there's nothing HTML-specific about any of this. Let's see what happens attempting to generate another type of document structured using tags…"
   ]
  },
  {
   "cell_type": "code",
   "execution_count": 11,
   "id": "d9545764",
   "metadata": {},
   "outputs": [
    {
     "name": "stdout",
     "output_type": "stream",
     "text": [
      "<rss>\n",
      "\t<channel>\n",
      "\t\t<title>\n",
      "\t\t\tMy awesome RSS feed!\n",
      "\t\t</title>\n",
      "\t\t<link>\n",
      "\t\t\thttps://example.com/\n",
      "\t\t</link>\n",
      "\t\t<item>\n",
      "\t\t\t...\n",
      "\t\t</item>\n",
      "\n",
      "\t</channel>\n",
      "\n",
      "</rss>\n",
      "\n"
     ]
    }
   ],
   "source": [
    "feed = Tag.rss[Tag.channel[\n",
    "    Tag.title[\"My awesome RSS feed!\"],\n",
    "    Tag.link[\"https://example.com/\"],\n",
    "    Tag.item[\"...\"]\n",
    "]]\n",
    "\n",
    "print(feed)"
   ]
  },
  {
   "cell_type": "markdown",
   "id": "948645fb",
   "metadata": {},
   "source": [
    "Technically what we're doing here is constructing a _heirarchical tagged string_ representation. Like a word processor, just with complete freedom as to the tags in use."
   ]
  },
  {
   "cell_type": "markdown",
   "id": "9b1d8dfb",
   "metadata": {},
   "source": [
    "## Customization\n",
    "\n",
    "In order to permit subclassing of Tag to implement specific customizations to tag behavior, the metaclass will require some changes to how it determines which class to instantiate when an unknown class-level attribute is accessed. Lucky for us, a class method is provided to identify these to us. Unfortunately, it is not a mapping (how could it be?) but we can reasonably mandate that a given tag have only one implementation."
   ]
  },
  {
   "cell_type": "code",
   "execution_count": 12,
   "id": "62440342",
   "metadata": {},
   "outputs": [
    {
     "data": {
      "text/plain": [
       "[__main__.HTML]"
      ]
     },
     "execution_count": 12,
     "metadata": {},
     "output_type": "execute_result"
    }
   ],
   "source": [
    "class HTML(Tag):\n",
    "    ...\n",
    "\n",
    "Tag.__subclasses__()"
   ]
  },
  {
   "cell_type": "code",
   "execution_count": 13,
   "id": "9791c937",
   "metadata": {},
   "outputs": [
    {
     "data": {
      "text/plain": [
       "{'Html': __main__.Html, 'Head': __main__.Head, 'Body': __main__.Body}"
      ]
     },
     "execution_count": 13,
     "metadata": {},
     "output_type": "execute_result"
    }
   ],
   "source": [
    "class TagMeta(type):\n",
    "    def __new__(meta, name, bases, attrs):\n",
    "        cls = type.__new__(meta, str(name), bases, attrs)\n",
    "        return cls\n",
    "    \n",
    "    @property\n",
    "    def __subclass_map__(Tag):\n",
    "        return {subclass.__name__: subclass for subclass in Tag.__subclasses__()}\n",
    "    \n",
    "    def __getattr__(Tag, name:str):\n",
    "        localName = '-'.join(camel(name))\n",
    "        name = name[0].upper() + name[1:]\n",
    "        \n",
    "        Tag = Tag.__subclass_map__.get(name, Tag)\n",
    "        \n",
    "        return Tag(localName)\n",
    "\n",
    "\n",
    "class Tag(T, metaclass=TagMeta):\n",
    "    def __call__(self, **attributes) -> T:\n",
    "        \"\"\"Produce a new, cloned and mutated instance of this tag incorporating attribute changes.\"\"\"\n",
    "        instance = self.__class__(self.localName, self.children)  # Mutant pools children!\n",
    "        instance.__dict__ = self.__dict__.copy()  # It pools all mutable attributes!\n",
    "        \n",
    "        for name, value in attributes.items():\n",
    "            setattr(instance, name, value)\n",
    "        \n",
    "        return instance\n",
    "    \n",
    "    def __getitem__(self, children) -> T:\n",
    "        \"\"\"Mutate this instance to add these children, returning this instance for chained manipulation.\"\"\"\n",
    "        if isinstance(children, (tuple, list)):\n",
    "            self.children.extend(children)\n",
    "        else:\n",
    "            self.children.append(children)\n",
    "        \n",
    "        return self\n",
    "\n",
    "\n",
    "class _Prefixed:\n",
    "    prefix: str\n",
    "    \n",
    "    def __str__(self):\n",
    "        return self.prefix + (\"\\n\" if __debug__ else \"\") + super().__str__()\n",
    "\n",
    "\n",
    "class _Elidable:\n",
    "    def __str__(self):\n",
    "        if not self.classList:\n",
    "            return \"\".join(str(child) for child in self)\n",
    "        \n",
    "        if __debug__:  # Prettier \"linted\" output when optimizations aren't enabled.\n",
    "            parts.append(\"\\n\")\n",
    "            parts.append(indent(\"\".join(str(child) for child in self), \"\\t\"))\n",
    "        else:\n",
    "            parts.extend(str(child) for child in self)\n",
    "\n",
    "\n",
    "class Html(_Prefixed, _Elidable, Tag):\n",
    "    prefix = \"<!DOCTYPE html>\"\n",
    "\n",
    "class Head(_Elidable, Tag): pass\n",
    "class Body(_Elidable, Tag): pass\n",
    "\n",
    "Tag.__subclass_map__"
   ]
  },
  {
   "cell_type": "code",
   "execution_count": 14,
   "id": "4c9be894",
   "metadata": {},
   "outputs": [
    {
     "data": {
      "text/plain": [
       "__main__.Html"
      ]
     },
     "execution_count": 14,
     "metadata": {},
     "output_type": "execute_result"
    }
   ],
   "source": [
    "Tag.html.__class__"
   ]
  },
  {
   "cell_type": "code",
   "execution_count": 15,
   "id": "ad0c55aa",
   "metadata": {},
   "outputs": [
    {
     "data": {
      "text/plain": [
       "__main__.Tag"
      ]
     },
     "execution_count": 15,
     "metadata": {},
     "output_type": "execute_result"
    }
   ],
   "source": [
    "Tag.title.__class__"
   ]
  },
  {
   "cell_type": "code",
   "execution_count": 16,
   "id": "40838d8d",
   "metadata": {},
   "outputs": [
    {
     "name": "stdout",
     "output_type": "stream",
     "text": [
      "<!DOCTYPE html>\n",
      "<title>\n",
      "\tHello world!\n",
      "</title>\n",
      "\n"
     ]
    }
   ],
   "source": [
    "print(Tag.html[Tag.title[\"Hello world!\"]])"
   ]
  },
  {
   "cell_type": "code",
   "execution_count": 17,
   "id": "df69b209",
   "metadata": {},
   "outputs": [
    {
     "name": "stdout",
     "output_type": "stream",
     "text": [
      "<!DOCTYPE html>\n",
      "<title>\n",
      "\tWelcome\n",
      "</title>\n",
      "<p>\n",
      "\tThis is a complete and fully-formed HTML document.\n",
      "</p>\n",
      "\n"
     ]
    }
   ],
   "source": [
    "page = Tag.html [\n",
    "        Tag.head [\n",
    "            Tag.title [\"Welcome\"]\n",
    "        ],\n",
    "        Tag.body [\n",
    "            Tag.p [\"This is a complete and fully-formed HTML document.\"]\n",
    "        ],\n",
    "    ]\n",
    "\n",
    "print(page)"
   ]
  }
 ],
 "metadata": {
  "kernelspec": {
   "display_name": "Python 3",
   "language": "python",
   "name": "python3"
  },
  "language_info": {
   "codemirror_mode": {
    "name": "ipython",
    "version": 3
   },
   "file_extension": ".py",
   "mimetype": "text/x-python",
   "name": "python",
   "nbconvert_exporter": "python",
   "pygments_lexer": "ipython3",
   "version": "3.9.4"
  }
 },
 "nbformat": 4,
 "nbformat_minor": 5
}
